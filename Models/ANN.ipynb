{
 "cells": [
  {
   "cell_type": "markdown",
   "id": "4f668ba3",
   "metadata": {},
   "source": [
    "## Importing important library"
   ]
  },
  {
   "cell_type": "code",
   "execution_count": 200,
   "id": "616eebc4",
   "metadata": {},
   "outputs": [],
   "source": [
    "import numpy as np\n",
    "import pandas as pd\n",
    "import matplotlib.pyplot as plt\n",
    "%matplotlib inline"
   ]
  },
  {
   "cell_type": "markdown",
   "id": "6f7fb093",
   "metadata": {},
   "source": [
    "## Loading Data "
   ]
  },
  {
   "cell_type": "code",
   "execution_count": 202,
   "id": "07215ed3",
   "metadata": {},
   "outputs": [
    {
     "data": {
      "text/html": [
       "<div>\n",
       "<style scoped>\n",
       "    .dataframe tbody tr th:only-of-type {\n",
       "        vertical-align: middle;\n",
       "    }\n",
       "\n",
       "    .dataframe tbody tr th {\n",
       "        vertical-align: top;\n",
       "    }\n",
       "\n",
       "    .dataframe thead th {\n",
       "        text-align: right;\n",
       "    }\n",
       "</style>\n",
       "<table border=\"1\" class=\"dataframe\">\n",
       "  <thead>\n",
       "    <tr style=\"text-align: right;\">\n",
       "      <th></th>\n",
       "      <th>id</th>\n",
       "      <th>gender</th>\n",
       "      <th>age</th>\n",
       "      <th>hypertension</th>\n",
       "      <th>heart_disease</th>\n",
       "      <th>ever_married</th>\n",
       "      <th>work_type</th>\n",
       "      <th>Residence_type</th>\n",
       "      <th>avg_glucose_level</th>\n",
       "      <th>bmi</th>\n",
       "      <th>smoking_status</th>\n",
       "      <th>stroke</th>\n",
       "    </tr>\n",
       "  </thead>\n",
       "  <tbody>\n",
       "    <tr>\n",
       "      <th>2847</th>\n",
       "      <td>2393</td>\n",
       "      <td>Male</td>\n",
       "      <td>59.0</td>\n",
       "      <td>1</td>\n",
       "      <td>0</td>\n",
       "      <td>Yes</td>\n",
       "      <td>Private</td>\n",
       "      <td>Rural</td>\n",
       "      <td>87.81</td>\n",
       "      <td>29.8</td>\n",
       "      <td>formerly smoked</td>\n",
       "      <td>0</td>\n",
       "    </tr>\n",
       "    <tr>\n",
       "      <th>2868</th>\n",
       "      <td>59454</td>\n",
       "      <td>Female</td>\n",
       "      <td>79.0</td>\n",
       "      <td>0</td>\n",
       "      <td>0</td>\n",
       "      <td>Yes</td>\n",
       "      <td>Self-employed</td>\n",
       "      <td>Urban</td>\n",
       "      <td>74.35</td>\n",
       "      <td>28.5</td>\n",
       "      <td>formerly smoked</td>\n",
       "      <td>0</td>\n",
       "    </tr>\n",
       "    <tr>\n",
       "      <th>3551</th>\n",
       "      <td>20421</td>\n",
       "      <td>Female</td>\n",
       "      <td>43.0</td>\n",
       "      <td>0</td>\n",
       "      <td>0</td>\n",
       "      <td>Yes</td>\n",
       "      <td>Private</td>\n",
       "      <td>Rural</td>\n",
       "      <td>68.94</td>\n",
       "      <td>26.8</td>\n",
       "      <td>never smoked</td>\n",
       "      <td>0</td>\n",
       "    </tr>\n",
       "    <tr>\n",
       "      <th>3229</th>\n",
       "      <td>52080</td>\n",
       "      <td>Female</td>\n",
       "      <td>26.0</td>\n",
       "      <td>0</td>\n",
       "      <td>0</td>\n",
       "      <td>No</td>\n",
       "      <td>Private</td>\n",
       "      <td>Rural</td>\n",
       "      <td>85.27</td>\n",
       "      <td>24.6</td>\n",
       "      <td>never smoked</td>\n",
       "      <td>0</td>\n",
       "    </tr>\n",
       "    <tr>\n",
       "      <th>431</th>\n",
       "      <td>3655</td>\n",
       "      <td>Male</td>\n",
       "      <td>31.0</td>\n",
       "      <td>0</td>\n",
       "      <td>0</td>\n",
       "      <td>Yes</td>\n",
       "      <td>Govt_job</td>\n",
       "      <td>Rural</td>\n",
       "      <td>91.65</td>\n",
       "      <td>24.6</td>\n",
       "      <td>formerly smoked</td>\n",
       "      <td>0</td>\n",
       "    </tr>\n",
       "  </tbody>\n",
       "</table>\n",
       "</div>"
      ],
      "text/plain": [
       "         id  gender   age  hypertension  heart_disease ever_married  \\\n",
       "2847   2393    Male  59.0             1              0          Yes   \n",
       "2868  59454  Female  79.0             0              0          Yes   \n",
       "3551  20421  Female  43.0             0              0          Yes   \n",
       "3229  52080  Female  26.0             0              0           No   \n",
       "431    3655    Male  31.0             0              0          Yes   \n",
       "\n",
       "          work_type Residence_type  avg_glucose_level   bmi   smoking_status  \\\n",
       "2847        Private          Rural              87.81  29.8  formerly smoked   \n",
       "2868  Self-employed          Urban              74.35  28.5  formerly smoked   \n",
       "3551        Private          Rural              68.94  26.8     never smoked   \n",
       "3229        Private          Rural              85.27  24.6     never smoked   \n",
       "431        Govt_job          Rural              91.65  24.6  formerly smoked   \n",
       "\n",
       "      stroke  \n",
       "2847       0  \n",
       "2868       0  \n",
       "3551       0  \n",
       "3229       0  \n",
       "431        0  "
      ]
     },
     "execution_count": 202,
     "metadata": {},
     "output_type": "execute_result"
    }
   ],
   "source": [
    "#Loading Dataset\n",
    "df = pd.read_csv(r'C:\\Users\\hp\\Desktop\\Stroke prediction\\healthcare-dataset-stroke-data.csv')\n",
    "df.sample(5)"
   ]
  },
  {
   "cell_type": "markdown",
   "id": "120b9adc",
   "metadata": {},
   "source": [
    "## Data Preparation"
   ]
  },
  {
   "cell_type": "code",
   "execution_count": 21,
   "id": "71289e11",
   "metadata": {},
   "outputs": [
    {
     "data": {
      "text/plain": [
       "gender                object\n",
       "age                  float64\n",
       "hypertension           int64\n",
       "heart_disease          int64\n",
       "ever_married          object\n",
       "work_type             object\n",
       "Residence_type        object\n",
       "avg_glucose_level    float64\n",
       "bmi                  float64\n",
       "smoking_status        object\n",
       "stroke                 int64\n",
       "dtype: object"
      ]
     },
     "execution_count": 21,
     "metadata": {},
     "output_type": "execute_result"
    }
   ],
   "source": [
    "df.dtypes"
   ]
  },
  {
   "cell_type": "code",
   "execution_count": 22,
   "id": "4a68d4b8",
   "metadata": {},
   "outputs": [
    {
     "data": {
      "text/plain": [
       "(5110, 11)"
      ]
     },
     "execution_count": 22,
     "metadata": {},
     "output_type": "execute_result"
    }
   ],
   "source": [
    "df.shape"
   ]
  },
  {
   "cell_type": "code",
   "execution_count": 30,
   "id": "3c27057a",
   "metadata": {},
   "outputs": [
    {
     "name": "stdout",
     "output_type": "stream",
     "text": [
      "<class 'pandas.core.frame.DataFrame'>\n",
      "RangeIndex: 5110 entries, 0 to 5109\n",
      "Data columns (total 11 columns):\n",
      " #   Column             Non-Null Count  Dtype  \n",
      "---  ------             --------------  -----  \n",
      " 0   gender             5110 non-null   object \n",
      " 1   age                5110 non-null   float64\n",
      " 2   hypertension       5110 non-null   int64  \n",
      " 3   heart_disease      5110 non-null   int64  \n",
      " 4   ever_married       5110 non-null   object \n",
      " 5   work_type          5110 non-null   object \n",
      " 6   Residence_type     5110 non-null   object \n",
      " 7   avg_glucose_level  5110 non-null   float64\n",
      " 8   bmi                4909 non-null   float64\n",
      " 9   smoking_status     5110 non-null   object \n",
      " 10  stroke             5110 non-null   int64  \n",
      "dtypes: float64(3), int64(3), object(5)\n",
      "memory usage: 439.3+ KB\n"
     ]
    }
   ],
   "source": [
    "df.info()"
   ]
  },
  {
   "cell_type": "code",
   "execution_count": 31,
   "id": "10731d0a",
   "metadata": {},
   "outputs": [
    {
     "data": {
      "text/plain": [
       "gender                 0\n",
       "age                    0\n",
       "hypertension           0\n",
       "heart_disease          0\n",
       "ever_married           0\n",
       "work_type              0\n",
       "Residence_type         0\n",
       "avg_glucose_level      0\n",
       "bmi                  201\n",
       "smoking_status         0\n",
       "stroke                 0\n",
       "dtype: int64"
      ]
     },
     "execution_count": 31,
     "metadata": {},
     "output_type": "execute_result"
    }
   ],
   "source": [
    "df.isnull().sum()"
   ]
  },
  {
   "cell_type": "code",
   "execution_count": 203,
   "id": "1b827a98",
   "metadata": {},
   "outputs": [
    {
     "data": {
      "text/plain": [
       "28.7    41\n",
       "28.4    38\n",
       "26.7    37\n",
       "27.6    37\n",
       "26.1    37\n",
       "        ..\n",
       "48.7     1\n",
       "49.2     1\n",
       "51.0     1\n",
       "49.4     1\n",
       "14.9     1\n",
       "Name: bmi, Length: 418, dtype: int64"
      ]
     },
     "execution_count": 203,
     "metadata": {},
     "output_type": "execute_result"
    }
   ],
   "source": [
    "#Filling the null values\n",
    "df['bmi'].value_counts()"
   ]
  },
  {
   "cell_type": "code",
   "execution_count": 33,
   "id": "6a668063",
   "metadata": {},
   "outputs": [
    {
     "data": {
      "text/plain": [
       "count    4909.000000\n",
       "mean       28.893237\n",
       "std         7.854067\n",
       "min        10.300000\n",
       "25%        23.500000\n",
       "50%        28.100000\n",
       "75%        33.100000\n",
       "max        97.600000\n",
       "Name: bmi, dtype: float64"
      ]
     },
     "execution_count": 33,
     "metadata": {},
     "output_type": "execute_result"
    }
   ],
   "source": [
    "df['bmi'].describe()"
   ]
  },
  {
   "cell_type": "code",
   "execution_count": 35,
   "id": "a05d332d",
   "metadata": {},
   "outputs": [],
   "source": [
    "df['bmi'].fillna(df['bmi'].mean(),inplace=True)"
   ]
  },
  {
   "cell_type": "code",
   "execution_count": 36,
   "id": "ec5f95e5",
   "metadata": {},
   "outputs": [
    {
     "data": {
      "text/plain": [
       "count    5110.000000\n",
       "mean       28.893237\n",
       "std         7.698018\n",
       "min        10.300000\n",
       "25%        23.800000\n",
       "50%        28.400000\n",
       "75%        32.800000\n",
       "max        97.600000\n",
       "Name: bmi, dtype: float64"
      ]
     },
     "execution_count": 36,
     "metadata": {},
     "output_type": "execute_result"
    }
   ],
   "source": [
    "df['bmi'].describe()"
   ]
  },
  {
   "cell_type": "code",
   "execution_count": 37,
   "id": "5ab85228",
   "metadata": {},
   "outputs": [
    {
     "data": {
      "text/plain": [
       "gender               0\n",
       "age                  0\n",
       "hypertension         0\n",
       "heart_disease        0\n",
       "ever_married         0\n",
       "work_type            0\n",
       "Residence_type       0\n",
       "avg_glucose_level    0\n",
       "bmi                  0\n",
       "smoking_status       0\n",
       "stroke               0\n",
       "dtype: int64"
      ]
     },
     "execution_count": 37,
     "metadata": {},
     "output_type": "execute_result"
    }
   ],
   "source": [
    "df.isnull().sum()"
   ]
  },
  {
   "cell_type": "code",
   "execution_count": 67,
   "id": "2a61ca0e",
   "metadata": {},
   "outputs": [
    {
     "data": {
      "text/plain": [
       "<matplotlib.legend.Legend at 0x21f9ad7df90>"
      ]
     },
     "execution_count": 67,
     "metadata": {},
     "output_type": "execute_result"
    },
    {
     "data": {
      "image/png": "[encoded data removed]",
      "text/plain": [
       "<Figure size 640x480 with 1 Axes>"
      ]
     },
     "metadata": {},
     "output_type": "display_data"
    }
   ],
   "source": [
    "#Data Visualization\n",
    "bmi_stroke_no = df[df.stroke==0].bmi\n",
    "bmi_stroke_yes = df[df.stroke==1].bmi\n",
    "\n",
    "plt.xlabel(\"BMI\")\n",
    "plt.ylabel(\"Number Of people\")\n",
    "plt.title(\"stroke Prediction Visualiztion\")\n",
    "\n",
    "\n",
    "plt.hist([bmi_stroke_yes ,bmi_stroke_no], rwidth=0.95, color=['blue','red'] ,label=['stroke=No','stroke=Yes'])\n",
    "plt.legend()"
   ]
  },
  {
   "cell_type": "code",
   "execution_count": 69,
   "id": "74542d62",
   "metadata": {},
   "outputs": [
    {
     "data": {
      "text/plain": [
       "(array([[ 183.,    0.,    0.,    0.,    0.,    0.,    0.,    0.,    0.,\n",
       "           66.],\n",
       "        [4429.,    0.,    0.,    0.,    0.,    0.,    0.,    0.,    0.,\n",
       "          432.]]),\n",
       " array([0. , 0.1, 0.2, 0.3, 0.4, 0.5, 0.6, 0.7, 0.8, 0.9, 1. ]),\n",
       " <a list of 2 BarContainer objects>)"
      ]
     },
     "execution_count": 69,
     "metadata": {},
     "output_type": "execute_result"
    },
    {
     "data": {
      "image/png": "[encoded data removed]",
      "text/plain": [
       "<Figure size 640x480 with 1 Axes>"
      ]
     },
     "metadata": {},
     "output_type": "display_data"
    }
   ],
   "source": [
    "ht_stroke_no = df[df.stroke==0].hypertension\n",
    "ht_stroke_yes = df[df.stroke==1].hypertension\n",
    "\n",
    "plt.xlabel(\"hypertension\")\n",
    "plt.ylabel(\"Number Of people\")\n",
    "plt.title(\"stroke Prediction Visualiztion\")\n",
    "\n",
    "\n",
    "\n",
    "plt.hist([ht_stroke_yes ,ht_stroke_no], rwidth=0.95, color=['green','red'] ,label=['stroke=No','stroke=Yes'])"
   ]
  },
  {
   "cell_type": "code",
   "execution_count": 74,
   "id": "1688bb06",
   "metadata": {},
   "outputs": [],
   "source": [
    "def print_unique_col_values(df):\n",
    "       for column in df:\n",
    "            if df[column].dtypes=='object':\n",
    "                print(f'{column}: {df[column].unique()}') "
   ]
  },
  {
   "cell_type": "code",
   "execution_count": 75,
   "id": "425c4f47",
   "metadata": {},
   "outputs": [
    {
     "name": "stdout",
     "output_type": "stream",
     "text": [
      "gender: ['Male' 'Female' 'Other']\n",
      "ever_married: ['Yes' 'No']\n",
      "work_type: ['Private' 'Self-employed' 'Govt_job' 'children' 'Never_worked']\n",
      "Residence_type: ['Urban' 'Rural']\n",
      "smoking_status: ['formerly smoked' 'never smoked' 'smokes' 'Unknown']\n"
     ]
    }
   ],
   "source": [
    "print_unique_col_values(df)"
   ]
  },
  {
   "cell_type": "code",
   "execution_count": 77,
   "id": "7238aa4c",
   "metadata": {},
   "outputs": [],
   "source": [
    "yes_no_columns = ['ever_married']\n",
    "for col in yes_no_columns:\n",
    "    df[col].replace({'Yes': 1,'No': 0},inplace=True)"
   ]
  },
  {
   "cell_type": "code",
   "execution_count": 78,
   "id": "6fc28e93",
   "metadata": {},
   "outputs": [
    {
     "name": "stdout",
     "output_type": "stream",
     "text": [
      "gender: ['Male' 'Female' 'Other']\n",
      "work_type: ['Private' 'Self-employed' 'Govt_job' 'children' 'Never_worked']\n",
      "Residence_type: ['Urban' 'Rural']\n",
      "smoking_status: ['formerly smoked' 'never smoked' 'smokes' 'Unknown']\n"
     ]
    }
   ],
   "source": [
    "print_unique_col_values(df)"
   ]
  },
  {
   "cell_type": "code",
   "execution_count": 81,
   "id": "e4cb9418",
   "metadata": {},
   "outputs": [
    {
     "data": {
      "text/plain": [
       "Index(['age', 'hypertension', 'heart_disease', 'ever_married',\n",
       "       'avg_glucose_level', 'bmi', 'stroke', 'gender_Female', 'gender_Male',\n",
       "       'gender_Other', 'work_type_Govt_job', 'work_type_Never_worked',\n",
       "       'work_type_Private', 'work_type_Self-employed', 'work_type_children',\n",
       "       'Residence_type_Rural', 'Residence_type_Urban',\n",
       "       'smoking_status_Unknown', 'smoking_status_formerly smoked',\n",
       "       'smoking_status_never smoked', 'smoking_status_smokes'],\n",
       "      dtype='object')"
      ]
     },
     "execution_count": 81,
     "metadata": {},
     "output_type": "execute_result"
    }
   ],
   "source": [
    "#Hot encoding\n",
    "df2 = pd.get_dummies(data=df, columns=['gender','work_type','Residence_type','smoking_status'])\n",
    "df2.columns"
   ]
  },
  {
   "cell_type": "code",
   "execution_count": 82,
   "id": "1b6322c9",
   "metadata": {},
   "outputs": [
    {
     "data": {
      "text/html": [
       "<div>\n",
       "<style scoped>\n",
       "    .dataframe tbody tr th:only-of-type {\n",
       "        vertical-align: middle;\n",
       "    }\n",
       "\n",
       "    .dataframe tbody tr th {\n",
       "        vertical-align: top;\n",
       "    }\n",
       "\n",
       "    .dataframe thead th {\n",
       "        text-align: right;\n",
       "    }\n",
       "</style>\n",
       "<table border=\"1\" class=\"dataframe\">\n",
       "  <thead>\n",
       "    <tr style=\"text-align: right;\">\n",
       "      <th></th>\n",
       "      <th>age</th>\n",
       "      <th>hypertension</th>\n",
       "      <th>heart_disease</th>\n",
       "      <th>ever_married</th>\n",
       "      <th>avg_glucose_level</th>\n",
       "      <th>bmi</th>\n",
       "      <th>stroke</th>\n",
       "      <th>gender_Female</th>\n",
       "      <th>gender_Male</th>\n",
       "      <th>gender_Other</th>\n",
       "      <th>...</th>\n",
       "      <th>work_type_Never_worked</th>\n",
       "      <th>work_type_Private</th>\n",
       "      <th>work_type_Self-employed</th>\n",
       "      <th>work_type_children</th>\n",
       "      <th>Residence_type_Rural</th>\n",
       "      <th>Residence_type_Urban</th>\n",
       "      <th>smoking_status_Unknown</th>\n",
       "      <th>smoking_status_formerly smoked</th>\n",
       "      <th>smoking_status_never smoked</th>\n",
       "      <th>smoking_status_smokes</th>\n",
       "    </tr>\n",
       "  </thead>\n",
       "  <tbody>\n",
       "    <tr>\n",
       "      <th>1911</th>\n",
       "      <td>59.0</td>\n",
       "      <td>0</td>\n",
       "      <td>0</td>\n",
       "      <td>1</td>\n",
       "      <td>67.75</td>\n",
       "      <td>21.3</td>\n",
       "      <td>0</td>\n",
       "      <td>1</td>\n",
       "      <td>0</td>\n",
       "      <td>0</td>\n",
       "      <td>...</td>\n",
       "      <td>0</td>\n",
       "      <td>0</td>\n",
       "      <td>1</td>\n",
       "      <td>0</td>\n",
       "      <td>0</td>\n",
       "      <td>1</td>\n",
       "      <td>0</td>\n",
       "      <td>1</td>\n",
       "      <td>0</td>\n",
       "      <td>0</td>\n",
       "    </tr>\n",
       "    <tr>\n",
       "      <th>1809</th>\n",
       "      <td>13.0</td>\n",
       "      <td>0</td>\n",
       "      <td>0</td>\n",
       "      <td>0</td>\n",
       "      <td>99.44</td>\n",
       "      <td>21.0</td>\n",
       "      <td>0</td>\n",
       "      <td>0</td>\n",
       "      <td>1</td>\n",
       "      <td>0</td>\n",
       "      <td>...</td>\n",
       "      <td>0</td>\n",
       "      <td>1</td>\n",
       "      <td>0</td>\n",
       "      <td>0</td>\n",
       "      <td>1</td>\n",
       "      <td>0</td>\n",
       "      <td>0</td>\n",
       "      <td>0</td>\n",
       "      <td>1</td>\n",
       "      <td>0</td>\n",
       "    </tr>\n",
       "    <tr>\n",
       "      <th>3602</th>\n",
       "      <td>49.0</td>\n",
       "      <td>0</td>\n",
       "      <td>0</td>\n",
       "      <td>0</td>\n",
       "      <td>104.08</td>\n",
       "      <td>26.6</td>\n",
       "      <td>0</td>\n",
       "      <td>1</td>\n",
       "      <td>0</td>\n",
       "      <td>0</td>\n",
       "      <td>...</td>\n",
       "      <td>0</td>\n",
       "      <td>0</td>\n",
       "      <td>0</td>\n",
       "      <td>0</td>\n",
       "      <td>1</td>\n",
       "      <td>0</td>\n",
       "      <td>0</td>\n",
       "      <td>0</td>\n",
       "      <td>1</td>\n",
       "      <td>0</td>\n",
       "    </tr>\n",
       "    <tr>\n",
       "      <th>778</th>\n",
       "      <td>63.0</td>\n",
       "      <td>0</td>\n",
       "      <td>0</td>\n",
       "      <td>1</td>\n",
       "      <td>92.70</td>\n",
       "      <td>29.5</td>\n",
       "      <td>0</td>\n",
       "      <td>1</td>\n",
       "      <td>0</td>\n",
       "      <td>0</td>\n",
       "      <td>...</td>\n",
       "      <td>0</td>\n",
       "      <td>1</td>\n",
       "      <td>0</td>\n",
       "      <td>0</td>\n",
       "      <td>1</td>\n",
       "      <td>0</td>\n",
       "      <td>0</td>\n",
       "      <td>0</td>\n",
       "      <td>1</td>\n",
       "      <td>0</td>\n",
       "    </tr>\n",
       "    <tr>\n",
       "      <th>2433</th>\n",
       "      <td>78.0</td>\n",
       "      <td>1</td>\n",
       "      <td>1</td>\n",
       "      <td>0</td>\n",
       "      <td>92.90</td>\n",
       "      <td>30.4</td>\n",
       "      <td>0</td>\n",
       "      <td>0</td>\n",
       "      <td>1</td>\n",
       "      <td>0</td>\n",
       "      <td>...</td>\n",
       "      <td>0</td>\n",
       "      <td>0</td>\n",
       "      <td>1</td>\n",
       "      <td>0</td>\n",
       "      <td>0</td>\n",
       "      <td>1</td>\n",
       "      <td>0</td>\n",
       "      <td>0</td>\n",
       "      <td>0</td>\n",
       "      <td>1</td>\n",
       "    </tr>\n",
       "  </tbody>\n",
       "</table>\n",
       "<p>5 rows × 21 columns</p>\n",
       "</div>"
      ],
      "text/plain": [
       "       age  hypertension  heart_disease  ever_married  avg_glucose_level  \\\n",
       "1911  59.0             0              0             1              67.75   \n",
       "1809  13.0             0              0             0              99.44   \n",
       "3602  49.0             0              0             0             104.08   \n",
       "778   63.0             0              0             1              92.70   \n",
       "2433  78.0             1              1             0              92.90   \n",
       "\n",
       "       bmi  stroke  gender_Female  gender_Male  gender_Other  ...  \\\n",
       "1911  21.3       0              1            0             0  ...   \n",
       "1809  21.0       0              0            1             0  ...   \n",
       "3602  26.6       0              1            0             0  ...   \n",
       "778   29.5       0              1            0             0  ...   \n",
       "2433  30.4       0              0            1             0  ...   \n",
       "\n",
       "      work_type_Never_worked  work_type_Private  work_type_Self-employed  \\\n",
       "1911                       0                  0                        1   \n",
       "1809                       0                  1                        0   \n",
       "3602                       0                  0                        0   \n",
       "778                        0                  1                        0   \n",
       "2433                       0                  0                        1   \n",
       "\n",
       "      work_type_children  Residence_type_Rural  Residence_type_Urban  \\\n",
       "1911                   0                     0                     1   \n",
       "1809                   0                     1                     0   \n",
       "3602                   0                     1                     0   \n",
       "778                    0                     1                     0   \n",
       "2433                   0                     0                     1   \n",
       "\n",
       "      smoking_status_Unknown  smoking_status_formerly smoked  \\\n",
       "1911                       0                               1   \n",
       "1809                       0                               0   \n",
       "3602                       0                               0   \n",
       "778                        0                               0   \n",
       "2433                       0                               0   \n",
       "\n",
       "      smoking_status_never smoked  smoking_status_smokes  \n",
       "1911                            0                      0  \n",
       "1809                            1                      0  \n",
       "3602                            1                      0  \n",
       "778                             1                      0  \n",
       "2433                            0                      1  \n",
       "\n",
       "[5 rows x 21 columns]"
      ]
     },
     "execution_count": 82,
     "metadata": {},
     "output_type": "execute_result"
    }
   ],
   "source": [
    "df2.sample(5)"
   ]
  },
  {
   "cell_type": "code",
   "execution_count": 83,
   "id": "0618fdc0",
   "metadata": {},
   "outputs": [
    {
     "data": {
      "text/plain": [
       "age                               float64\n",
       "hypertension                        int64\n",
       "heart_disease                       int64\n",
       "ever_married                        int64\n",
       "avg_glucose_level                 float64\n",
       "bmi                               float64\n",
       "stroke                              int64\n",
       "gender_Female                       uint8\n",
       "gender_Male                         uint8\n",
       "gender_Other                        uint8\n",
       "work_type_Govt_job                  uint8\n",
       "work_type_Never_worked              uint8\n",
       "work_type_Private                   uint8\n",
       "work_type_Self-employed             uint8\n",
       "work_type_children                  uint8\n",
       "Residence_type_Rural                uint8\n",
       "Residence_type_Urban                uint8\n",
       "smoking_status_Unknown              uint8\n",
       "smoking_status_formerly smoked      uint8\n",
       "smoking_status_never smoked         uint8\n",
       "smoking_status_smokes               uint8\n",
       "dtype: object"
      ]
     },
     "execution_count": 83,
     "metadata": {},
     "output_type": "execute_result"
    }
   ],
   "source": [
    "df2.dtypes"
   ]
  },
  {
   "cell_type": "markdown",
   "id": "387fddf3",
   "metadata": {},
   "source": [
    "## Feature Scailing "
   ]
  },
  {
   "cell_type": "code",
   "execution_count": 85,
   "id": "d6c2ac45",
   "metadata": {},
   "outputs": [],
   "source": [
    "cols_to_scale = ['age','avg_glucose_level','bmi']\n",
    "\n",
    "from sklearn.preprocessing import MinMaxScaler\n",
    "scaler = MinMaxScaler()\n",
    "df2[cols_to_scale] = scaler.fit_transform(df2[cols_to_scale])"
   ]
  },
  {
   "cell_type": "code",
   "execution_count": 86,
   "id": "18f8a46d",
   "metadata": {},
   "outputs": [
    {
     "name": "stdout",
     "output_type": "stream",
     "text": [
      "age: [8.16894531e-01 7.43652344e-01 9.75585938e-01 5.97167969e-01\n",
      " 9.63378906e-01 9.87792969e-01 9.02343750e-01 8.41308594e-01\n",
      " 7.19238281e-01 9.51171875e-01 6.58203125e-01 6.09375000e-01\n",
      " 7.80273438e-01 9.14550781e-01 7.31445312e-01 6.94824219e-01\n",
      " 8.65722656e-01 6.33789062e-01 1.00000000e+00 7.92480469e-01\n",
      " 7.07031250e-01 5.11718750e-01 5.84960938e-01 8.77929688e-01\n",
      " 7.68066406e-01 9.26757812e-01 4.75097656e-01 9.38964844e-01\n",
      " 8.90136719e-01 6.82617188e-01 5.48339844e-01 8.53515625e-01\n",
      " 8.04687500e-01 6.21582031e-01 5.23925781e-01 8.29101562e-01\n",
      " 5.72753906e-01 6.45996094e-01 4.62890625e-01 6.70410156e-01\n",
      " 1.51367188e-02 5.60546875e-01 3.89648438e-01 1.69921875e-01\n",
      " 3.56445312e-02 9.66796875e-02 4.50683594e-01 4.87304688e-01\n",
      " 4.26269531e-01 2.43164062e-01 5.36132812e-01 3.04199219e-01\n",
      " 3.28613281e-01 2.79785156e-01 2.06542969e-01 1.57714844e-01\n",
      " 4.78515625e-02 1.94335938e-01 2.67578125e-01 3.65234375e-01\n",
      " 3.53027344e-01 1.33300781e-01 2.55371094e-01 2.18750000e-01\n",
      " 4.01855469e-01 2.91992188e-01 4.14062500e-01 4.38476562e-01\n",
      " 6.83593750e-03 4.99511719e-01 9.76562500e-03 6.00585938e-02\n",
      " 3.16406250e-01 3.77441406e-01 8.44726562e-02 1.45507812e-01\n",
      " 7.55859375e-01 2.34375000e-02 1.08886719e-01 1.82128906e-01\n",
      " 3.40820312e-01 1.21093750e-01 2.09960938e-02 2.92968750e-03\n",
      " 1.22070312e-02 2.30957031e-01 7.22656250e-02 1.31835937e-02\n",
      " 1.12304688e-02 1.61132812e-02 2.00195312e-02 1.95312500e-03\n",
      " 1.90429688e-02 1.80664062e-02 7.81250000e-03 2.19726562e-02\n",
      " 1.41601562e-02 8.78906250e-03 3.90625000e-03 0.00000000e+00\n",
      " 1.70898438e-02 5.85937500e-03 4.88281250e-03 9.76562500e-04]\n",
      "hypertension: [0 1]\n",
      "heart_disease: [1 0]\n",
      "ever_married: [1 0]\n",
      "avg_glucose_level: [0.80126489 0.67902317 0.23451205 ... 0.12865848 0.51320284 0.13922999]\n",
      "bmi: [0.30126002 0.21298095 0.25429553 0.27605956 0.15693013 0.21420389\n",
      " 0.19587629 0.14318442 0.15922108 0.22222222 0.30355097 0.19473081\n",
      " 0.20504009 0.23596793 0.3115693  0.17754868 0.31500573 0.13860252\n",
      " 0.44215349 0.18671249 0.19358534 0.15120275 0.20618557 0.38831615\n",
      " 0.17296678 0.13631157 0.23138603 0.18556701 0.26804124 0.14662085\n",
      " 0.24856816 0.22451317 0.15578465 0.20847652 0.18442153 0.11340206\n",
      " 0.26689576 0.32416953 0.33104238 0.19931271 0.2416953  0.30011455\n",
      " 0.26231386 0.25773196 0.34478809 0.17182131 0.2279496  0.42611684\n",
      " 0.11454754 0.22565865 0.21305842 0.20389462 0.23825888 0.13058419\n",
      " 0.19129439 0.1580756  0.40778923 0.38717068 0.1443299  0.21534937\n",
      " 0.25200458 0.35280641 0.17525773 0.2233677  0.18327606 0.18213058\n",
      " 0.2187858  0.16151203 0.20274914 0.21191294 0.27835052 0.10423826\n",
      " 0.22909507 0.35738832 0.14089347 0.5303551  0.19243986 0.24054983\n",
      " 0.2371134  0.24513173 0.29209622 0.20733104 0.11225659 0.18785796\n",
      " 0.32531501 0.28178694 0.16838488 0.15463918 0.13172967 0.19702176\n",
      " 0.16380298 0.25887743 0.18098511 0.24742268 0.27262314 0.30469645\n",
      " 0.30927835 0.40549828 0.27376861 0.15234822 0.13745704 0.3069874\n",
      " 0.39747995 0.17411226 0.23482245 0.31042383 0.27720504 0.20160367\n",
      " 0.21993127 0.40893471 0.36884307 0.28865979 0.19014891 0.40320733\n",
      " 0.24284078 0.26002291 0.15005727 0.23367698 0.11683849 0.12829324\n",
      " 0.34020619 0.20962199 0.36540664 0.22107675 0.28751432 0.07560137\n",
      " 0.18900344 0.33218786 0.25544101 0.2932417  0.12485682 0.36769759\n",
      " 0.34593356 0.3024055  0.21764032 0.10652921 0.0882016  0.0836197\n",
      " 0.10080183 0.4558992  0.08476518 0.50744559 0.28293242 0.13402062\n",
      " 0.33333333 0.10767468 0.139748   0.17067583 0.36082474 0.57961054\n",
      " 0.1534937  0.1626575  0.23940435 0.0652921  0.24398625 0.16953036\n",
      " 0.16609393 0.09163803 0.11111111 0.10538373 0.29438717 0.28636884\n",
      " 0.34135166 0.37571592 0.12714777 0.27491409 0.19816724 0.07101947\n",
      " 0.16036655 0.17640321 0.13287514 0.32187858 0.17869416 0.50859107\n",
      " 0.09507446 0.1672394  0.43413517 0.11912944 0.33447881 0.1489118\n",
      " 0.62428408 0.28407789 0.3814433  0.12256586 0.42382589 0.07216495\n",
      " 0.12943872 0.05956472 0.28980527 0.07331042 0.36197022 0.069874\n",
      " 0.07789233 0.21649485 0.3161512  0.39289805 0.33562428 0.34364261\n",
      " 0.35853379 0.32875143 0.14776632 0.09851088 0.29553265 0.2978236\n",
      " 0.41466208 0.0744559  0.41580756 0.28522337 0.12142039 0.04009164\n",
      " 0.24627721 0.05727377 0.31958763 0.3997709  0.07674685 0.45246277\n",
      " 0.20045819 0.57159221 0.14547537 0.13516609 0.17983963 0.38946163\n",
      " 0.46620848 0.33676976 0.27949599 0.12600229 0.35395189 0.28064147\n",
      " 0.10194731 0.29095074 0.34936999 0.16494845 0.09965636 0.25315006\n",
      " 0.27147766 0.21076747 0.24971363 0.47193585 0.11569301 0.2325315\n",
      " 0.70561283 0.10309278 0.35051546 0.0790378  0.06643757 0.06758305\n",
      " 0.34707904 0.09278351 0.12371134 0.36655212 0.25085911 0.45704467\n",
      " 0.08247423 0.09621993 0.36426117 0.42955326 0.12027491 0.22680412\n",
      " 0.08018328 0.29896907 0.01947308 0.29667812 0.52004582 0.04696449\n",
      " 0.37457045 0.35967927 0.26918671 0.38487973 0.14203895 0.54066438\n",
      " 0.30584192 0.32302405 0.06872852 0.3860252  0.25658648 0.50286369\n",
      " 0.34249714 0.26345934 0.08132875 0.35509737 0.48109966 0.04925544\n",
      " 0.08591065 0.41008018 0.26116838 0.08934708 0.38373425 0.45819015\n",
      " 0.32760596 0.38258877 0.33906071 0.06414662 0.10882016 0.02290951\n",
      " 0.77548683 0.3207331  0.35166094 0.36998855 0.37915235 0.05498282\n",
      " 0.11798396 0.26575029 0.3768614  0.23024055 0.31729668 0.26460481\n",
      " 0.39633448 0.39404353 0.31271478 0.33791523 0.49369989 0.51431844\n",
      " 0.36311569 0.30813288 0.3722795  0.09736541 0.37342497 0.04581901\n",
      " 0.31386025 0.43642612 0.46162658 0.41122566 0.44902635 0.37800687\n",
      " 0.27033219 0.09392898 0.39175258 0.40206186 0.51202749 0.50973654\n",
      " 0.10996564 0.08705613 0.06071019 0.48682703 0.05612829 0.64719359\n",
      " 0.51317297 0.09049255 0.43757159 0.52233677 0.53837342 0.\n",
      " 0.04352806 0.06185567 0.52348225 0.395189   0.03550974 0.47537228\n",
      " 0.31844215 0.54295533 0.3906071  0.32646048 0.4467354  0.32989691\n",
      " 0.50057274 0.52462772 1.         0.49942726 0.03894616 0.0137457\n",
      " 0.35624284 0.04467354 0.44788087 0.05841924 0.39862543 0.44558992\n",
      " 0.43986254 0.49828179 0.37113402 0.44100802 0.48568156 0.49484536\n",
      " 0.4604811  0.06300115 0.40091638 0.05154639 0.47651775 0.60710195\n",
      " 0.34822451 0.58304696 0.43184422 0.41809851 0.43528064 0.54753723\n",
      " 0.45933562 0.01145475 0.02863688 0.03665521 0.04810997 0.05383734\n",
      " 0.56586483 0.42497136 0.48339061 0.03321879 0.48797251 0.58762887\n",
      " 0.45360825 0.50400916 0.43069874 0.03092784 0.04123711 0.465063\n",
      " 0.53722795 0.61970218 0.93585338 0.46391753 0.54524628 0.40664376\n",
      " 0.42726231 0.04238259 0.41351661 0.41924399 0.42153494 0.03436426\n",
      " 0.43298969 0.4742268  0.41237113 0.50171821 0.05269187]\n",
      "stroke: [1 0]\n",
      "gender_Female: [0 1]\n",
      "gender_Male: [1 0]\n",
      "gender_Other: [0 1]\n",
      "work_type_Govt_job: [0 1]\n",
      "work_type_Never_worked: [0 1]\n",
      "work_type_Private: [1 0]\n",
      "work_type_Self-employed: [0 1]\n",
      "work_type_children: [0 1]\n",
      "Residence_type_Rural: [0 1]\n",
      "Residence_type_Urban: [1 0]\n",
      "smoking_status_Unknown: [0 1]\n",
      "smoking_status_formerly smoked: [1 0]\n",
      "smoking_status_never smoked: [0 1]\n",
      "smoking_status_smokes: [0 1]\n"
     ]
    }
   ],
   "source": [
    "for col in df2:\n",
    "    print(f'{col}: {df2[col].unique()}')"
   ]
  },
  {
   "cell_type": "code",
   "execution_count": 89,
   "id": "2ccb0ca9",
   "metadata": {},
   "outputs": [],
   "source": [
    "X = df2.drop('stroke',axis='columns')\n",
    "y = df2['stroke']\n",
    "\n",
    "from sklearn.model_selection import train_test_split\n",
    "X_train, X_test, y_train, y_test = train_test_split(X,y,test_size=0.2,random_state=5)"
   ]
  },
  {
   "cell_type": "code",
   "execution_count": 90,
   "id": "b8956ac4",
   "metadata": {},
   "outputs": [
    {
     "data": {
      "text/plain": [
       "(4088, 20)"
      ]
     },
     "execution_count": 90,
     "metadata": {},
     "output_type": "execute_result"
    }
   ],
   "source": [
    "X_train.shape"
   ]
  },
  {
   "cell_type": "code",
   "execution_count": 91,
   "id": "c9a8a2fd",
   "metadata": {},
   "outputs": [
    {
     "data": {
      "text/plain": [
       "(1022, 20)"
      ]
     },
     "execution_count": 91,
     "metadata": {},
     "output_type": "execute_result"
    }
   ],
   "source": [
    "X_test.shape"
   ]
  },
  {
   "cell_type": "code",
   "execution_count": 92,
   "id": "db212df9",
   "metadata": {},
   "outputs": [
    {
     "data": {
      "text/html": [
       "<div>\n",
       "<style scoped>\n",
       "    .dataframe tbody tr th:only-of-type {\n",
       "        vertical-align: middle;\n",
       "    }\n",
       "\n",
       "    .dataframe tbody tr th {\n",
       "        vertical-align: top;\n",
       "    }\n",
       "\n",
       "    .dataframe thead th {\n",
       "        text-align: right;\n",
       "    }\n",
       "</style>\n",
       "<table border=\"1\" class=\"dataframe\">\n",
       "  <thead>\n",
       "    <tr style=\"text-align: right;\">\n",
       "      <th></th>\n",
       "      <th>age</th>\n",
       "      <th>hypertension</th>\n",
       "      <th>heart_disease</th>\n",
       "      <th>ever_married</th>\n",
       "      <th>avg_glucose_level</th>\n",
       "      <th>bmi</th>\n",
       "      <th>gender_Female</th>\n",
       "      <th>gender_Male</th>\n",
       "      <th>gender_Other</th>\n",
       "      <th>work_type_Govt_job</th>\n",
       "      <th>work_type_Never_worked</th>\n",
       "      <th>work_type_Private</th>\n",
       "      <th>work_type_Self-employed</th>\n",
       "      <th>work_type_children</th>\n",
       "      <th>Residence_type_Rural</th>\n",
       "      <th>Residence_type_Urban</th>\n",
       "      <th>smoking_status_Unknown</th>\n",
       "      <th>smoking_status_formerly smoked</th>\n",
       "      <th>smoking_status_never smoked</th>\n",
       "      <th>smoking_status_smokes</th>\n",
       "    </tr>\n",
       "  </thead>\n",
       "  <tbody>\n",
       "    <tr>\n",
       "      <th>2257</th>\n",
       "      <td>0.865723</td>\n",
       "      <td>0</td>\n",
       "      <td>0</td>\n",
       "      <td>1</td>\n",
       "      <td>0.857215</td>\n",
       "      <td>0.195876</td>\n",
       "      <td>1</td>\n",
       "      <td>0</td>\n",
       "      <td>0</td>\n",
       "      <td>0</td>\n",
       "      <td>0</td>\n",
       "      <td>1</td>\n",
       "      <td>0</td>\n",
       "      <td>0</td>\n",
       "      <td>0</td>\n",
       "      <td>1</td>\n",
       "      <td>0</td>\n",
       "      <td>0</td>\n",
       "      <td>1</td>\n",
       "      <td>0</td>\n",
       "    </tr>\n",
       "    <tr>\n",
       "      <th>5043</th>\n",
       "      <td>0.462891</td>\n",
       "      <td>0</td>\n",
       "      <td>0</td>\n",
       "      <td>0</td>\n",
       "      <td>0.264380</td>\n",
       "      <td>0.183276</td>\n",
       "      <td>0</td>\n",
       "      <td>1</td>\n",
       "      <td>0</td>\n",
       "      <td>0</td>\n",
       "      <td>0</td>\n",
       "      <td>1</td>\n",
       "      <td>0</td>\n",
       "      <td>0</td>\n",
       "      <td>1</td>\n",
       "      <td>0</td>\n",
       "      <td>1</td>\n",
       "      <td>0</td>\n",
       "      <td>0</td>\n",
       "      <td>0</td>\n",
       "    </tr>\n",
       "    <tr>\n",
       "      <th>4032</th>\n",
       "      <td>0.963379</td>\n",
       "      <td>0</td>\n",
       "      <td>0</td>\n",
       "      <td>1</td>\n",
       "      <td>0.075432</td>\n",
       "      <td>0.264605</td>\n",
       "      <td>1</td>\n",
       "      <td>0</td>\n",
       "      <td>0</td>\n",
       "      <td>0</td>\n",
       "      <td>0</td>\n",
       "      <td>1</td>\n",
       "      <td>0</td>\n",
       "      <td>0</td>\n",
       "      <td>0</td>\n",
       "      <td>1</td>\n",
       "      <td>1</td>\n",
       "      <td>0</td>\n",
       "      <td>0</td>\n",
       "      <td>0</td>\n",
       "    </tr>\n",
       "    <tr>\n",
       "      <th>4330</th>\n",
       "      <td>0.658203</td>\n",
       "      <td>0</td>\n",
       "      <td>0</td>\n",
       "      <td>1</td>\n",
       "      <td>0.070677</td>\n",
       "      <td>0.120275</td>\n",
       "      <td>1</td>\n",
       "      <td>0</td>\n",
       "      <td>0</td>\n",
       "      <td>0</td>\n",
       "      <td>0</td>\n",
       "      <td>0</td>\n",
       "      <td>1</td>\n",
       "      <td>0</td>\n",
       "      <td>0</td>\n",
       "      <td>1</td>\n",
       "      <td>0</td>\n",
       "      <td>0</td>\n",
       "      <td>0</td>\n",
       "      <td>1</td>\n",
       "    </tr>\n",
       "    <tr>\n",
       "      <th>982</th>\n",
       "      <td>0.009766</td>\n",
       "      <td>0</td>\n",
       "      <td>0</td>\n",
       "      <td>0</td>\n",
       "      <td>0.472948</td>\n",
       "      <td>0.101947</td>\n",
       "      <td>0</td>\n",
       "      <td>1</td>\n",
       "      <td>0</td>\n",
       "      <td>0</td>\n",
       "      <td>0</td>\n",
       "      <td>0</td>\n",
       "      <td>0</td>\n",
       "      <td>1</td>\n",
       "      <td>1</td>\n",
       "      <td>0</td>\n",
       "      <td>1</td>\n",
       "      <td>0</td>\n",
       "      <td>0</td>\n",
       "      <td>0</td>\n",
       "    </tr>\n",
       "    <tr>\n",
       "      <th>3931</th>\n",
       "      <td>0.890137</td>\n",
       "      <td>1</td>\n",
       "      <td>0</td>\n",
       "      <td>0</td>\n",
       "      <td>0.660973</td>\n",
       "      <td>0.504009</td>\n",
       "      <td>1</td>\n",
       "      <td>0</td>\n",
       "      <td>0</td>\n",
       "      <td>0</td>\n",
       "      <td>0</td>\n",
       "      <td>0</td>\n",
       "      <td>1</td>\n",
       "      <td>0</td>\n",
       "      <td>1</td>\n",
       "      <td>0</td>\n",
       "      <td>0</td>\n",
       "      <td>1</td>\n",
       "      <td>0</td>\n",
       "      <td>0</td>\n",
       "    </tr>\n",
       "    <tr>\n",
       "      <th>5094</th>\n",
       "      <td>0.157715</td>\n",
       "      <td>0</td>\n",
       "      <td>0</td>\n",
       "      <td>0</td>\n",
       "      <td>0.125842</td>\n",
       "      <td>0.160367</td>\n",
       "      <td>0</td>\n",
       "      <td>1</td>\n",
       "      <td>0</td>\n",
       "      <td>0</td>\n",
       "      <td>0</td>\n",
       "      <td>0</td>\n",
       "      <td>0</td>\n",
       "      <td>1</td>\n",
       "      <td>0</td>\n",
       "      <td>1</td>\n",
       "      <td>1</td>\n",
       "      <td>0</td>\n",
       "      <td>0</td>\n",
       "      <td>0</td>\n",
       "    </tr>\n",
       "    <tr>\n",
       "      <th>2713</th>\n",
       "      <td>0.389648</td>\n",
       "      <td>0</td>\n",
       "      <td>0</td>\n",
       "      <td>1</td>\n",
       "      <td>0.280399</td>\n",
       "      <td>0.263459</td>\n",
       "      <td>0</td>\n",
       "      <td>1</td>\n",
       "      <td>0</td>\n",
       "      <td>0</td>\n",
       "      <td>0</td>\n",
       "      <td>1</td>\n",
       "      <td>0</td>\n",
       "      <td>0</td>\n",
       "      <td>1</td>\n",
       "      <td>0</td>\n",
       "      <td>0</td>\n",
       "      <td>0</td>\n",
       "      <td>1</td>\n",
       "      <td>0</td>\n",
       "    </tr>\n",
       "    <tr>\n",
       "      <th>818</th>\n",
       "      <td>0.243164</td>\n",
       "      <td>0</td>\n",
       "      <td>0</td>\n",
       "      <td>0</td>\n",
       "      <td>0.239359</td>\n",
       "      <td>0.201604</td>\n",
       "      <td>0</td>\n",
       "      <td>1</td>\n",
       "      <td>0</td>\n",
       "      <td>1</td>\n",
       "      <td>0</td>\n",
       "      <td>0</td>\n",
       "      <td>0</td>\n",
       "      <td>0</td>\n",
       "      <td>1</td>\n",
       "      <td>0</td>\n",
       "      <td>0</td>\n",
       "      <td>1</td>\n",
       "      <td>0</td>\n",
       "      <td>0</td>\n",
       "    </tr>\n",
       "    <tr>\n",
       "      <th>466</th>\n",
       "      <td>0.743652</td>\n",
       "      <td>1</td>\n",
       "      <td>0</td>\n",
       "      <td>1</td>\n",
       "      <td>0.530560</td>\n",
       "      <td>0.571592</td>\n",
       "      <td>1</td>\n",
       "      <td>0</td>\n",
       "      <td>0</td>\n",
       "      <td>0</td>\n",
       "      <td>0</td>\n",
       "      <td>1</td>\n",
       "      <td>0</td>\n",
       "      <td>0</td>\n",
       "      <td>1</td>\n",
       "      <td>0</td>\n",
       "      <td>0</td>\n",
       "      <td>0</td>\n",
       "      <td>0</td>\n",
       "      <td>1</td>\n",
       "    </tr>\n",
       "  </tbody>\n",
       "</table>\n",
       "</div>"
      ],
      "text/plain": [
       "           age  hypertension  heart_disease  ever_married  avg_glucose_level  \\\n",
       "2257  0.865723             0              0             1           0.857215   \n",
       "5043  0.462891             0              0             0           0.264380   \n",
       "4032  0.963379             0              0             1           0.075432   \n",
       "4330  0.658203             0              0             1           0.070677   \n",
       "982   0.009766             0              0             0           0.472948   \n",
       "3931  0.890137             1              0             0           0.660973   \n",
       "5094  0.157715             0              0             0           0.125842   \n",
       "2713  0.389648             0              0             1           0.280399   \n",
       "818   0.243164             0              0             0           0.239359   \n",
       "466   0.743652             1              0             1           0.530560   \n",
       "\n",
       "           bmi  gender_Female  gender_Male  gender_Other  work_type_Govt_job  \\\n",
       "2257  0.195876              1            0             0                   0   \n",
       "5043  0.183276              0            1             0                   0   \n",
       "4032  0.264605              1            0             0                   0   \n",
       "4330  0.120275              1            0             0                   0   \n",
       "982   0.101947              0            1             0                   0   \n",
       "3931  0.504009              1            0             0                   0   \n",
       "5094  0.160367              0            1             0                   0   \n",
       "2713  0.263459              0            1             0                   0   \n",
       "818   0.201604              0            1             0                   1   \n",
       "466   0.571592              1            0             0                   0   \n",
       "\n",
       "      work_type_Never_worked  work_type_Private  work_type_Self-employed  \\\n",
       "2257                       0                  1                        0   \n",
       "5043                       0                  1                        0   \n",
       "4032                       0                  1                        0   \n",
       "4330                       0                  0                        1   \n",
       "982                        0                  0                        0   \n",
       "3931                       0                  0                        1   \n",
       "5094                       0                  0                        0   \n",
       "2713                       0                  1                        0   \n",
       "818                        0                  0                        0   \n",
       "466                        0                  1                        0   \n",
       "\n",
       "      work_type_children  Residence_type_Rural  Residence_type_Urban  \\\n",
       "2257                   0                     0                     1   \n",
       "5043                   0                     1                     0   \n",
       "4032                   0                     0                     1   \n",
       "4330                   0                     0                     1   \n",
       "982                    1                     1                     0   \n",
       "3931                   0                     1                     0   \n",
       "5094                   1                     0                     1   \n",
       "2713                   0                     1                     0   \n",
       "818                    0                     1                     0   \n",
       "466                    0                     1                     0   \n",
       "\n",
       "      smoking_status_Unknown  smoking_status_formerly smoked  \\\n",
       "2257                       0                               0   \n",
       "5043                       1                               0   \n",
       "4032                       1                               0   \n",
       "4330                       0                               0   \n",
       "982                        1                               0   \n",
       "3931                       0                               1   \n",
       "5094                       1                               0   \n",
       "2713                       0                               0   \n",
       "818                        0                               1   \n",
       "466                        0                               0   \n",
       "\n",
       "      smoking_status_never smoked  smoking_status_smokes  \n",
       "2257                            1                      0  \n",
       "5043                            0                      0  \n",
       "4032                            0                      0  \n",
       "4330                            0                      1  \n",
       "982                             0                      0  \n",
       "3931                            0                      0  \n",
       "5094                            0                      0  \n",
       "2713                            1                      0  \n",
       "818                             0                      0  \n",
       "466                             0                      1  "
      ]
     },
     "execution_count": 92,
     "metadata": {},
     "output_type": "execute_result"
    }
   ],
   "source": [
    "X_train[:10]"
   ]
  },
  {
   "cell_type": "markdown",
   "id": "84d0832f",
   "metadata": {},
   "source": [
    "## Modeling, Compiling and Training the model "
   ]
  },
  {
   "cell_type": "code",
   "execution_count": 183,
   "id": "eee18261",
   "metadata": {},
   "outputs": [
    {
     "name": "stdout",
     "output_type": "stream",
     "text": [
      "Epoch 1/50\n",
      "128/128 [==============================] - 2s 4ms/step - loss: 0.2389 - accuracy: 0.9369\n",
      "Epoch 2/50\n",
      "128/128 [==============================] - 1s 4ms/step - loss: 0.1713 - accuracy: 0.9518\n",
      "Epoch 3/50\n",
      "128/128 [==============================] - 1s 4ms/step - loss: 0.1655 - accuracy: 0.9518\n",
      "Epoch 4/50\n",
      "128/128 [==============================] - 1s 4ms/step - loss: 0.1615 - accuracy: 0.9518\n",
      "Epoch 5/50\n",
      "128/128 [==============================] - 1s 4ms/step - loss: 0.1588 - accuracy: 0.9518\n",
      "Epoch 6/50\n",
      "128/128 [==============================] - 1s 4ms/step - loss: 0.1557 - accuracy: 0.9518\n",
      "Epoch 7/50\n",
      "128/128 [==============================] - 0s 4ms/step - loss: 0.1529 - accuracy: 0.9518\n",
      "Epoch 8/50\n",
      "128/128 [==============================] - 0s 3ms/step - loss: 0.1539 - accuracy: 0.9521\n",
      "Epoch 9/50\n",
      "128/128 [==============================] - 0s 3ms/step - loss: 0.1511 - accuracy: 0.9518\n",
      "Epoch 10/50\n",
      "128/128 [==============================] - 0s 3ms/step - loss: 0.1503 - accuracy: 0.9521\n",
      "Epoch 11/50\n",
      "128/128 [==============================] - 0s 3ms/step - loss: 0.1498 - accuracy: 0.9525\n",
      "Epoch 12/50\n",
      "128/128 [==============================] - 0s 4ms/step - loss: 0.1476 - accuracy: 0.9528\n",
      "Epoch 13/50\n",
      "128/128 [==============================] - 0s 4ms/step - loss: 0.1463 - accuracy: 0.9530\n",
      "Epoch 14/50\n",
      "128/128 [==============================] - 0s 3ms/step - loss: 0.1445 - accuracy: 0.9528\n",
      "Epoch 15/50\n",
      "128/128 [==============================] - 0s 3ms/step - loss: 0.1449 - accuracy: 0.9535\n",
      "Epoch 16/50\n",
      "128/128 [==============================] - 0s 3ms/step - loss: 0.1434 - accuracy: 0.9525\n",
      "Epoch 17/50\n",
      "128/128 [==============================] - 1s 4ms/step - loss: 0.1440 - accuracy: 0.9535\n",
      "Epoch 18/50\n",
      "128/128 [==============================] - 0s 4ms/step - loss: 0.1411 - accuracy: 0.9533\n",
      "Epoch 19/50\n",
      "128/128 [==============================] - 1s 4ms/step - loss: 0.1393 - accuracy: 0.9540\n",
      "Epoch 20/50\n",
      "128/128 [==============================] - 0s 4ms/step - loss: 0.1390 - accuracy: 0.9552\n",
      "Epoch 21/50\n",
      "128/128 [==============================] - 1s 4ms/step - loss: 0.1374 - accuracy: 0.9547\n",
      "Epoch 22/50\n",
      "128/128 [==============================] - 1s 4ms/step - loss: 0.1354 - accuracy: 0.9550\n",
      "Epoch 23/50\n",
      "128/128 [==============================] - 1s 4ms/step - loss: 0.1367 - accuracy: 0.9547\n",
      "Epoch 24/50\n",
      "128/128 [==============================] - 1s 4ms/step - loss: 0.1341 - accuracy: 0.9557\n",
      "Epoch 25/50\n",
      "128/128 [==============================] - 1s 4ms/step - loss: 0.1343 - accuracy: 0.9560\n",
      "Epoch 26/50\n",
      "128/128 [==============================] - 1s 4ms/step - loss: 0.1317 - accuracy: 0.9562\n",
      "Epoch 27/50\n",
      "128/128 [==============================] - 1s 4ms/step - loss: 0.1314 - accuracy: 0.9567\n",
      "Epoch 28/50\n",
      "128/128 [==============================] - 1s 4ms/step - loss: 0.1290 - accuracy: 0.9569\n",
      "Epoch 29/50\n",
      "128/128 [==============================] - 1s 4ms/step - loss: 0.1301 - accuracy: 0.9569\n",
      "Epoch 30/50\n",
      "128/128 [==============================] - 1s 4ms/step - loss: 0.1287 - accuracy: 0.9577\n",
      "Epoch 31/50\n",
      "128/128 [==============================] - 0s 4ms/step - loss: 0.1277 - accuracy: 0.9565\n",
      "Epoch 32/50\n",
      "128/128 [==============================] - 1s 4ms/step - loss: 0.1283 - accuracy: 0.9579\n",
      "Epoch 33/50\n",
      "128/128 [==============================] - 1s 4ms/step - loss: 0.1267 - accuracy: 0.9569\n",
      "Epoch 34/50\n",
      "128/128 [==============================] - 0s 4ms/step - loss: 0.1254 - accuracy: 0.9567\n",
      "Epoch 35/50\n",
      "128/128 [==============================] - 0s 4ms/step - loss: 0.1227 - accuracy: 0.9572\n",
      "Epoch 36/50\n",
      "128/128 [==============================] - 0s 4ms/step - loss: 0.1221 - accuracy: 0.9579\n",
      "Epoch 37/50\n",
      "128/128 [==============================] - 0s 4ms/step - loss: 0.1210 - accuracy: 0.9572\n",
      "Epoch 38/50\n",
      "128/128 [==============================] - 1s 4ms/step - loss: 0.1208 - accuracy: 0.9587\n",
      "Epoch 39/50\n",
      "128/128 [==============================] - 1s 5ms/step - loss: 0.1198 - accuracy: 0.9584\n",
      "Epoch 40/50\n",
      "128/128 [==============================] - 0s 3ms/step - loss: 0.1206 - accuracy: 0.9577\n",
      "Epoch 41/50\n",
      "128/128 [==============================] - 0s 3ms/step - loss: 0.1200 - accuracy: 0.9587\n",
      "Epoch 42/50\n",
      "128/128 [==============================] - 0s 3ms/step - loss: 0.1168 - accuracy: 0.9587\n",
      "Epoch 43/50\n",
      "128/128 [==============================] - 0s 3ms/step - loss: 0.1182 - accuracy: 0.9589\n",
      "Epoch 44/50\n",
      "128/128 [==============================] - 0s 3ms/step - loss: 0.1159 - accuracy: 0.9589\n",
      "Epoch 45/50\n",
      "128/128 [==============================] - 1s 4ms/step - loss: 0.1179 - accuracy: 0.9584\n",
      "Epoch 46/50\n",
      "128/128 [==============================] - 0s 3ms/step - loss: 0.1176 - accuracy: 0.9587\n",
      "Epoch 47/50\n",
      "128/128 [==============================] - 0s 4ms/step - loss: 0.1148 - accuracy: 0.9594\n",
      "Epoch 48/50\n",
      "128/128 [==============================] - 0s 4ms/step - loss: 0.1143 - accuracy: 0.9591\n",
      "Epoch 49/50\n",
      "128/128 [==============================] - 0s 3ms/step - loss: 0.1144 - accuracy: 0.9606\n",
      "Epoch 50/50\n",
      "128/128 [==============================] - 0s 3ms/step - loss: 0.1133 - accuracy: 0.9591\n"
     ]
    },
    {
     "data": {
      "text/plain": [
       "<keras.callbacks.History at 0x21f9ef53c70>"
      ]
     },
     "execution_count": 183,
     "metadata": {},
     "output_type": "execute_result"
    }
   ],
   "source": [
    "import tensorflow as tf\n",
    "from tensorflow import keras\n",
    "\n",
    "#Model architecture\n",
    "model = keras.Sequential([\n",
    "    keras.layers.Dense(64, input_shape=(20,), activation='relu'),\n",
    "    keras.layers.Dense(128, activation='relu'),\n",
    "    keras.layers.Dense(64, activation='relu'),\n",
    "    keras.layers.Dense(1, activation='sigmoid')])\n",
    "\n",
    "#Compiling the model\n",
    "model.compile(optimizer='adam',\n",
    "              loss='binary_crossentropy',\n",
    "              metrics=['accuracy'])\n",
    "\n",
    "#Training the model\n",
    "model.fit(X_train, y_train, epochs=50)"
   ]
  },
  {
   "cell_type": "markdown",
   "id": "4603d7b8",
   "metadata": {},
   "source": [
    "## Model Evaluation"
   ]
  },
  {
   "cell_type": "code",
   "execution_count": 184,
   "id": "ed33d017",
   "metadata": {},
   "outputs": [
    {
     "name": "stdout",
     "output_type": "stream",
     "text": [
      "32/32 [==============================] - 0s 3ms/step - loss: 0.2209 - accuracy: 0.9423\n"
     ]
    },
    {
     "data": {
      "text/plain": [
       "[0.220910906791687, 0.942270040512085]"
      ]
     },
     "execution_count": 184,
     "metadata": {},
     "output_type": "execute_result"
    }
   ],
   "source": [
    "model.evaluate(X_test, y_test)"
   ]
  },
  {
   "cell_type": "code",
   "execution_count": 185,
   "id": "38f16a1c",
   "metadata": {},
   "outputs": [
    {
     "data": {
      "text/plain": [
       "0.8346379647749511"
      ]
     },
     "execution_count": 185,
     "metadata": {},
     "output_type": "execute_result"
    }
   ],
   "source": [
    "accuracy_score(y_pred, y_test)"
   ]
  },
  {
   "cell_type": "code",
   "execution_count": 187,
   "id": "ecc4ed91",
   "metadata": {},
   "outputs": [],
   "source": [
    "y_pred = []\n",
    "for element in yp:\n",
    "    if element > 0.1:\n",
    "        y_pred.append(1)\n",
    "    else:\n",
    "        y_pred.append(0)"
   ]
  },
  {
   "cell_type": "code",
   "execution_count": 188,
   "id": "57498397",
   "metadata": {},
   "outputs": [
    {
     "data": {
      "text/plain": [
       "[1, 0, 0, 1, 0, 0, 1, 0, 1, 1]"
      ]
     },
     "execution_count": 188,
     "metadata": {},
     "output_type": "execute_result"
    }
   ],
   "source": [
    "y_pred[:10]"
   ]
  },
  {
   "cell_type": "code",
   "execution_count": 189,
   "id": "eaf33c05",
   "metadata": {},
   "outputs": [
    {
     "data": {
      "text/plain": [
       "1302    0\n",
       "3631    0\n",
       "4862    0\n",
       "3549    0\n",
       "3607    0\n",
       "4970    0\n",
       "1458    0\n",
       "3877    0\n",
       "405     0\n",
       "2342    0\n",
       "Name: stroke, dtype: int64"
      ]
     },
     "execution_count": 189,
     "metadata": {},
     "output_type": "execute_result"
    }
   ],
   "source": [
    "y_test[:10]"
   ]
  },
  {
   "cell_type": "code",
   "execution_count": 190,
   "id": "91b99c0b",
   "metadata": {},
   "outputs": [
    {
     "name": "stdout",
     "output_type": "stream",
     "text": [
      "              precision    recall  f1-score   support\n",
      "\n",
      "           0       0.97      0.85      0.91       970\n",
      "           1       0.17      0.58      0.26        52\n",
      "\n",
      "    accuracy                           0.83      1022\n",
      "   macro avg       0.57      0.71      0.58      1022\n",
      "weighted avg       0.93      0.83      0.87      1022\n",
      "\n"
     ]
    }
   ],
   "source": [
    "from sklearn.metrics import confusion_matrix , classification_report\n",
    "\n",
    "print(classification_report(y_test,y_pred))"
   ]
  },
  {
   "cell_type": "code",
   "execution_count": 191,
   "id": "767f8eba",
   "metadata": {},
   "outputs": [
    {
     "data": {
      "text/plain": [
       "Text(95.72222222222221, 0.5, 'Truth')"
      ]
     },
     "execution_count": 191,
     "metadata": {},
     "output_type": "execute_result"
    },
    {
     "data": {
      "image/png": "[encoded data removed]",
      "text/plain": [
       "<Figure size 1000x700 with 2 Axes>"
      ]
     },
     "metadata": {},
     "output_type": "display_data"
    }
   ],
   "source": [
    "import seaborn as sn\n",
    "cm = tf.math.confusion_matrix(labels=y_test,predictions=y_pred)\n",
    "\n",
    "plt.figure(figsize = (10,7))\n",
    "sn.heatmap(cm, annot=True, fmt='d')\n",
    "plt.xlabel('Predicted')\n",
    "plt.ylabel('Truth')"
   ]
  },
  {
   "cell_type": "code",
   "execution_count": 192,
   "id": "a8203853",
   "metadata": {},
   "outputs": [
    {
     "data": {
      "text/plain": [
       "(1022,)"
      ]
     },
     "execution_count": 192,
     "metadata": {},
     "output_type": "execute_result"
    }
   ],
   "source": [
    "y_test.shape"
   ]
  },
  {
   "cell_type": "code",
   "execution_count": 193,
   "id": "4f438eb5",
   "metadata": {},
   "outputs": [
    {
     "data": {
      "text/plain": [
       "0.83"
      ]
     },
     "execution_count": 193,
     "metadata": {},
     "output_type": "execute_result"
    }
   ],
   "source": [
    "round((823+30)/(823+22+147+30),2)"
   ]
  },
  {
   "cell_type": "code",
   "execution_count": 194,
   "id": "b215651d",
   "metadata": {},
   "outputs": [
    {
     "data": {
      "text/plain": [
       "0.8346379647749511"
      ]
     },
     "execution_count": 194,
     "metadata": {},
     "output_type": "execute_result"
    }
   ],
   "source": [
    "accuracy_score(y_pred, y_test)"
   ]
  }
 ],
 "metadata": {
  "kernelspec": {
   "display_name": "Python 3 (ipykernel)",
   "language": "python",
   "name": "python3"
  },
  "language_info": {
   "codemirror_mode": {
    "name": "ipython",
    "version": 3
   },
   "file_extension": ".py",
   "mimetype": "text/x-python",
   "name": "python",
   "nbconvert_exporter": "python",
   "pygments_lexer": "ipython3",
   "version": "3.10.9"
  }
 },
 "nbformat": 4,
 "nbformat_minor": 5
}
