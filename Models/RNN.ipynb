{
 "cells": [
  {
   "cell_type": "markdown",
   "id": "5d4d97ed",
   "metadata": {},
   "source": [
    "## Imorting important library"
   ]
  },
  {
   "cell_type": "code",
   "execution_count": 1,
   "id": "d56ffb6f",
   "metadata": {},
   "outputs": [],
   "source": [
    "import numpy as np\n",
    "import pandas as pd\n",
    "import matplotlib.pyplot as plt"
   ]
  },
  {
   "cell_type": "markdown",
   "id": "2c0bf737",
   "metadata": {},
   "source": [
    "## Loading Data"
   ]
  },
  {
   "cell_type": "code",
   "execution_count": 133,
   "id": "1816f3e7",
   "metadata": {},
   "outputs": [
    {
     "data": {
      "text/html": [
       "<div>\n",
       "<style scoped>\n",
       "    .dataframe tbody tr th:only-of-type {\n",
       "        vertical-align: middle;\n",
       "    }\n",
       "\n",
       "    .dataframe tbody tr th {\n",
       "        vertical-align: top;\n",
       "    }\n",
       "\n",
       "    .dataframe thead th {\n",
       "        text-align: right;\n",
       "    }\n",
       "</style>\n",
       "<table border=\"1\" class=\"dataframe\">\n",
       "  <thead>\n",
       "    <tr style=\"text-align: right;\">\n",
       "      <th></th>\n",
       "      <th>id</th>\n",
       "      <th>gender</th>\n",
       "      <th>age</th>\n",
       "      <th>hypertension</th>\n",
       "      <th>heart_disease</th>\n",
       "      <th>ever_married</th>\n",
       "      <th>work_type</th>\n",
       "      <th>Residence_type</th>\n",
       "      <th>avg_glucose_level</th>\n",
       "      <th>bmi</th>\n",
       "      <th>smoking_status</th>\n",
       "      <th>stroke</th>\n",
       "    </tr>\n",
       "  </thead>\n",
       "  <tbody>\n",
       "    <tr>\n",
       "      <th>1670</th>\n",
       "      <td>34720</td>\n",
       "      <td>Male</td>\n",
       "      <td>45.0</td>\n",
       "      <td>0</td>\n",
       "      <td>1</td>\n",
       "      <td>Yes</td>\n",
       "      <td>Private</td>\n",
       "      <td>Rural</td>\n",
       "      <td>93.77</td>\n",
       "      <td>NaN</td>\n",
       "      <td>Unknown</td>\n",
       "      <td>0</td>\n",
       "    </tr>\n",
       "    <tr>\n",
       "      <th>4545</th>\n",
       "      <td>40887</td>\n",
       "      <td>Male</td>\n",
       "      <td>16.0</td>\n",
       "      <td>0</td>\n",
       "      <td>0</td>\n",
       "      <td>No</td>\n",
       "      <td>children</td>\n",
       "      <td>Urban</td>\n",
       "      <td>135.82</td>\n",
       "      <td>35.1</td>\n",
       "      <td>never smoked</td>\n",
       "      <td>0</td>\n",
       "    </tr>\n",
       "    <tr>\n",
       "      <th>156</th>\n",
       "      <td>43054</td>\n",
       "      <td>Female</td>\n",
       "      <td>50.0</td>\n",
       "      <td>0</td>\n",
       "      <td>0</td>\n",
       "      <td>Yes</td>\n",
       "      <td>Private</td>\n",
       "      <td>Rural</td>\n",
       "      <td>102.16</td>\n",
       "      <td>31.4</td>\n",
       "      <td>smokes</td>\n",
       "      <td>1</td>\n",
       "    </tr>\n",
       "    <tr>\n",
       "      <th>4916</th>\n",
       "      <td>31189</td>\n",
       "      <td>Male</td>\n",
       "      <td>54.0</td>\n",
       "      <td>0</td>\n",
       "      <td>0</td>\n",
       "      <td>Yes</td>\n",
       "      <td>Govt_job</td>\n",
       "      <td>Urban</td>\n",
       "      <td>72.96</td>\n",
       "      <td>37.7</td>\n",
       "      <td>smokes</td>\n",
       "      <td>0</td>\n",
       "    </tr>\n",
       "    <tr>\n",
       "      <th>2630</th>\n",
       "      <td>61836</td>\n",
       "      <td>Female</td>\n",
       "      <td>0.8</td>\n",
       "      <td>0</td>\n",
       "      <td>0</td>\n",
       "      <td>No</td>\n",
       "      <td>children</td>\n",
       "      <td>Urban</td>\n",
       "      <td>106.59</td>\n",
       "      <td>15.5</td>\n",
       "      <td>Unknown</td>\n",
       "      <td>0</td>\n",
       "    </tr>\n",
       "  </tbody>\n",
       "</table>\n",
       "</div>"
      ],
      "text/plain": [
       "         id  gender   age  hypertension  heart_disease ever_married work_type  \\\n",
       "1670  34720    Male  45.0             0              1          Yes   Private   \n",
       "4545  40887    Male  16.0             0              0           No  children   \n",
       "156   43054  Female  50.0             0              0          Yes   Private   \n",
       "4916  31189    Male  54.0             0              0          Yes  Govt_job   \n",
       "2630  61836  Female   0.8             0              0           No  children   \n",
       "\n",
       "     Residence_type  avg_glucose_level   bmi smoking_status  stroke  \n",
       "1670          Rural              93.77   NaN        Unknown       0  \n",
       "4545          Urban             135.82  35.1   never smoked       0  \n",
       "156           Rural             102.16  31.4         smokes       1  \n",
       "4916          Urban              72.96  37.7         smokes       0  \n",
       "2630          Urban             106.59  15.5        Unknown       0  "
      ]
     },
     "execution_count": 133,
     "metadata": {},
     "output_type": "execute_result"
    }
   ],
   "source": [
    "#Loading dataset\n",
    "df = pd.read_csv(r'C:\\Users\\hp\\Desktop\\Stroke prediction\\healthcare-dataset-stroke-data.csv')\n",
    "\n",
    "df.sample(5)"
   ]
  },
  {
   "cell_type": "markdown",
   "id": "a0c6108f",
   "metadata": {},
   "source": [
    "## Data Preparation"
   ]
  },
  {
   "cell_type": "code",
   "execution_count": 134,
   "id": "31ef6b46",
   "metadata": {},
   "outputs": [],
   "source": [
    "#Dopping id as it is of no use.\n",
    "df.drop('id',axis='columns',inplace=True)"
   ]
  },
  {
   "cell_type": "code",
   "execution_count": 13,
   "id": "452d22c9",
   "metadata": {},
   "outputs": [
    {
     "data": {
      "text/plain": [
       "gender                object\n",
       "age                  float64\n",
       "hypertension           int64\n",
       "heart_disease          int64\n",
       "ever_married          object\n",
       "work_type             object\n",
       "Residence_type        object\n",
       "avg_glucose_level    float64\n",
       "bmi                  float64\n",
       "smoking_status        object\n",
       "stroke                 int64\n",
       "dtype: object"
      ]
     },
     "execution_count": 13,
     "metadata": {},
     "output_type": "execute_result"
    }
   ],
   "source": [
    "df.dtypes"
   ]
  },
  {
   "cell_type": "code",
   "execution_count": 14,
   "id": "0e6ca124",
   "metadata": {},
   "outputs": [
    {
     "name": "stdout",
     "output_type": "stream",
     "text": [
      "<class 'pandas.core.frame.DataFrame'>\n",
      "RangeIndex: 5110 entries, 0 to 5109\n",
      "Data columns (total 11 columns):\n",
      " #   Column             Non-Null Count  Dtype  \n",
      "---  ------             --------------  -----  \n",
      " 0   gender             5110 non-null   object \n",
      " 1   age                5110 non-null   float64\n",
      " 2   hypertension       5110 non-null   int64  \n",
      " 3   heart_disease      5110 non-null   int64  \n",
      " 4   ever_married       5110 non-null   object \n",
      " 5   work_type          5110 non-null   object \n",
      " 6   Residence_type     5110 non-null   object \n",
      " 7   avg_glucose_level  5110 non-null   float64\n",
      " 8   bmi                4909 non-null   float64\n",
      " 9   smoking_status     5110 non-null   object \n",
      " 10  stroke             5110 non-null   int64  \n",
      "dtypes: float64(3), int64(3), object(5)\n",
      "memory usage: 439.3+ KB\n"
     ]
    }
   ],
   "source": [
    "df.info()"
   ]
  },
  {
   "cell_type": "code",
   "execution_count": 15,
   "id": "59187178",
   "metadata": {},
   "outputs": [
    {
     "data": {
      "text/plain": [
       "gender                 0\n",
       "age                    0\n",
       "hypertension           0\n",
       "heart_disease          0\n",
       "ever_married           0\n",
       "work_type              0\n",
       "Residence_type         0\n",
       "avg_glucose_level      0\n",
       "bmi                  201\n",
       "smoking_status         0\n",
       "stroke                 0\n",
       "dtype: int64"
      ]
     },
     "execution_count": 15,
     "metadata": {},
     "output_type": "execute_result"
    }
   ],
   "source": [
    "df.isnull().sum()"
   ]
  },
  {
   "cell_type": "code",
   "execution_count": 16,
   "id": "fff03ca9",
   "metadata": {},
   "outputs": [
    {
     "data": {
      "text/plain": [
       "28.7    41\n",
       "28.4    38\n",
       "26.7    37\n",
       "27.6    37\n",
       "26.1    37\n",
       "        ..\n",
       "48.7     1\n",
       "49.2     1\n",
       "51.0     1\n",
       "49.4     1\n",
       "14.9     1\n",
       "Name: bmi, Length: 418, dtype: int64"
      ]
     },
     "execution_count": 16,
     "metadata": {},
     "output_type": "execute_result"
    }
   ],
   "source": [
    "#Filling the null values\n",
    "df['bmi'].value_counts()"
   ]
  },
  {
   "cell_type": "code",
   "execution_count": 17,
   "id": "abc1a34e",
   "metadata": {},
   "outputs": [
    {
     "data": {
      "text/plain": [
       "count    4909.000000\n",
       "mean       28.893237\n",
       "std         7.854067\n",
       "min        10.300000\n",
       "25%        23.500000\n",
       "50%        28.100000\n",
       "75%        33.100000\n",
       "max        97.600000\n",
       "Name: bmi, dtype: float64"
      ]
     },
     "execution_count": 17,
     "metadata": {},
     "output_type": "execute_result"
    }
   ],
   "source": [
    "df['bmi'].describe()"
   ]
  },
  {
   "cell_type": "code",
   "execution_count": 18,
   "id": "bdf1f572",
   "metadata": {},
   "outputs": [],
   "source": [
    "df['bmi'].fillna(df['bmi'].mean(),inplace=True)"
   ]
  },
  {
   "cell_type": "code",
   "execution_count": 19,
   "id": "35499851",
   "metadata": {},
   "outputs": [
    {
     "data": {
      "text/plain": [
       "count    5110.000000\n",
       "mean       28.893237\n",
       "std         7.698018\n",
       "min        10.300000\n",
       "25%        23.800000\n",
       "50%        28.400000\n",
       "75%        32.800000\n",
       "max        97.600000\n",
       "Name: bmi, dtype: float64"
      ]
     },
     "execution_count": 19,
     "metadata": {},
     "output_type": "execute_result"
    }
   ],
   "source": [
    "df['bmi'].describe()"
   ]
  },
  {
   "cell_type": "code",
   "execution_count": 20,
   "id": "a4b21c7b",
   "metadata": {},
   "outputs": [
    {
     "data": {
      "text/plain": [
       "gender               0\n",
       "age                  0\n",
       "hypertension         0\n",
       "heart_disease        0\n",
       "ever_married         0\n",
       "work_type            0\n",
       "Residence_type       0\n",
       "avg_glucose_level    0\n",
       "bmi                  0\n",
       "smoking_status       0\n",
       "stroke               0\n",
       "dtype: int64"
      ]
     },
     "execution_count": 20,
     "metadata": {},
     "output_type": "execute_result"
    }
   ],
   "source": [
    "df.isnull().sum()"
   ]
  },
  {
   "cell_type": "code",
   "execution_count": 132,
   "id": "e32b54c6",
   "metadata": {},
   "outputs": [
    {
     "data": {
      "text/plain": [
       "<matplotlib.legend.Legend at 0x154b9b14e20>"
      ]
     },
     "execution_count": 132,
     "metadata": {},
     "output_type": "execute_result"
    },
    {
     "data": {
      "image/png": "[encoded data removed]",
      "text/plain": [
       "<Figure size 640x480 with 1 Axes>"
      ]
     },
     "metadata": {},
     "output_type": "display_data"
    }
   ],
   "source": [
    "#Data Visualization\n",
    "gl_stroke_no = df[df.stroke==0].avg_glucose_level\n",
    "gl_stroke_yes = df[df.stroke==1].avg_glucose_level\n",
    "\n",
    "plt.xlabel(\"Glucose level\")\n",
    "plt.ylabel(\"Number Of people\")\n",
    "plt.title(\"stroke Prediction Visualiztion\")\n",
    "\n",
    "plt.hist([gl_stroke_yes ,gl_stroke_no], rwidth=0.95, color=['blue','red'] ,label=['stroke=No','stroke=Yes'])\n",
    "plt.legend()"
   ]
  },
  {
   "cell_type": "code",
   "execution_count": 22,
   "id": "3f6afff7",
   "metadata": {},
   "outputs": [],
   "source": [
    "def print_unique_col_values(df):\n",
    "       for column in df:\n",
    "            if df[column].dtypes=='object':\n",
    "                print(f'{column}: {df[column].unique()}') "
   ]
  },
  {
   "cell_type": "code",
   "execution_count": 23,
   "id": "602dfc2b",
   "metadata": {},
   "outputs": [
    {
     "name": "stdout",
     "output_type": "stream",
     "text": [
      "gender: ['Male' 'Female' 'Other']\n",
      "ever_married: ['Yes' 'No']\n",
      "work_type: ['Private' 'Self-employed' 'Govt_job' 'children' 'Never_worked']\n",
      "Residence_type: ['Urban' 'Rural']\n",
      "smoking_status: ['formerly smoked' 'never smoked' 'smokes' 'Unknown']\n"
     ]
    }
   ],
   "source": [
    "print_unique_col_values(df)"
   ]
  },
  {
   "cell_type": "code",
   "execution_count": 24,
   "id": "4e9ef5c6",
   "metadata": {},
   "outputs": [],
   "source": [
    "yes_no_columns = ['ever_married']\n",
    "for col in yes_no_columns:\n",
    "    df[col].replace({'Yes': 1,'No': 0},inplace=True)"
   ]
  },
  {
   "cell_type": "code",
   "execution_count": 25,
   "id": "a92ac87b",
   "metadata": {},
   "outputs": [
    {
     "name": "stdout",
     "output_type": "stream",
     "text": [
      "gender: ['Male' 'Female' 'Other']\n",
      "work_type: ['Private' 'Self-employed' 'Govt_job' 'children' 'Never_worked']\n",
      "Residence_type: ['Urban' 'Rural']\n",
      "smoking_status: ['formerly smoked' 'never smoked' 'smokes' 'Unknown']\n"
     ]
    }
   ],
   "source": [
    "print_unique_col_values(df)"
   ]
  },
  {
   "cell_type": "code",
   "execution_count": 135,
   "id": "79e1983b",
   "metadata": {},
   "outputs": [
    {
     "data": {
      "text/plain": [
       "Index(['age', 'hypertension', 'heart_disease', 'ever_married',\n",
       "       'avg_glucose_level', 'bmi', 'stroke', 'gender_Female', 'gender_Male',\n",
       "       'gender_Other', 'work_type_Govt_job', 'work_type_Never_worked',\n",
       "       'work_type_Private', 'work_type_Self-employed', 'work_type_children',\n",
       "       'Residence_type_Rural', 'Residence_type_Urban',\n",
       "       'smoking_status_Unknown', 'smoking_status_formerly smoked',\n",
       "       'smoking_status_never smoked', 'smoking_status_smokes'],\n",
       "      dtype='object')"
      ]
     },
     "execution_count": 135,
     "metadata": {},
     "output_type": "execute_result"
    }
   ],
   "source": [
    "#Hot encoding\n",
    "df2 = pd.get_dummies(data=df, columns=['gender','work_type','Residence_type','smoking_status'])\n",
    "df2.columns"
   ]
  },
  {
   "cell_type": "code",
   "execution_count": 27,
   "id": "e3319cea",
   "metadata": {},
   "outputs": [
    {
     "data": {
      "text/html": [
       "<div>\n",
       "<style scoped>\n",
       "    .dataframe tbody tr th:only-of-type {\n",
       "        vertical-align: middle;\n",
       "    }\n",
       "\n",
       "    .dataframe tbody tr th {\n",
       "        vertical-align: top;\n",
       "    }\n",
       "\n",
       "    .dataframe thead th {\n",
       "        text-align: right;\n",
       "    }\n",
       "</style>\n",
       "<table border=\"1\" class=\"dataframe\">\n",
       "  <thead>\n",
       "    <tr style=\"text-align: right;\">\n",
       "      <th></th>\n",
       "      <th>age</th>\n",
       "      <th>hypertension</th>\n",
       "      <th>heart_disease</th>\n",
       "      <th>ever_married</th>\n",
       "      <th>avg_glucose_level</th>\n",
       "      <th>bmi</th>\n",
       "      <th>stroke</th>\n",
       "      <th>gender_Female</th>\n",
       "      <th>gender_Male</th>\n",
       "      <th>gender_Other</th>\n",
       "      <th>...</th>\n",
       "      <th>work_type_Never_worked</th>\n",
       "      <th>work_type_Private</th>\n",
       "      <th>work_type_Self-employed</th>\n",
       "      <th>work_type_children</th>\n",
       "      <th>Residence_type_Rural</th>\n",
       "      <th>Residence_type_Urban</th>\n",
       "      <th>smoking_status_Unknown</th>\n",
       "      <th>smoking_status_formerly smoked</th>\n",
       "      <th>smoking_status_never smoked</th>\n",
       "      <th>smoking_status_smokes</th>\n",
       "    </tr>\n",
       "  </thead>\n",
       "  <tbody>\n",
       "    <tr>\n",
       "      <th>882</th>\n",
       "      <td>74.0</td>\n",
       "      <td>1</td>\n",
       "      <td>0</td>\n",
       "      <td>1</td>\n",
       "      <td>57.51</td>\n",
       "      <td>31.7</td>\n",
       "      <td>0</td>\n",
       "      <td>0</td>\n",
       "      <td>1</td>\n",
       "      <td>0</td>\n",
       "      <td>...</td>\n",
       "      <td>0</td>\n",
       "      <td>1</td>\n",
       "      <td>0</td>\n",
       "      <td>0</td>\n",
       "      <td>1</td>\n",
       "      <td>0</td>\n",
       "      <td>0</td>\n",
       "      <td>0</td>\n",
       "      <td>0</td>\n",
       "      <td>1</td>\n",
       "    </tr>\n",
       "    <tr>\n",
       "      <th>4237</th>\n",
       "      <td>63.0</td>\n",
       "      <td>0</td>\n",
       "      <td>0</td>\n",
       "      <td>1</td>\n",
       "      <td>69.46</td>\n",
       "      <td>26.6</td>\n",
       "      <td>0</td>\n",
       "      <td>1</td>\n",
       "      <td>0</td>\n",
       "      <td>0</td>\n",
       "      <td>...</td>\n",
       "      <td>0</td>\n",
       "      <td>0</td>\n",
       "      <td>1</td>\n",
       "      <td>0</td>\n",
       "      <td>0</td>\n",
       "      <td>1</td>\n",
       "      <td>0</td>\n",
       "      <td>0</td>\n",
       "      <td>1</td>\n",
       "      <td>0</td>\n",
       "    </tr>\n",
       "    <tr>\n",
       "      <th>1695</th>\n",
       "      <td>57.0</td>\n",
       "      <td>0</td>\n",
       "      <td>0</td>\n",
       "      <td>1</td>\n",
       "      <td>70.16</td>\n",
       "      <td>25.8</td>\n",
       "      <td>0</td>\n",
       "      <td>0</td>\n",
       "      <td>1</td>\n",
       "      <td>0</td>\n",
       "      <td>...</td>\n",
       "      <td>0</td>\n",
       "      <td>1</td>\n",
       "      <td>0</td>\n",
       "      <td>0</td>\n",
       "      <td>1</td>\n",
       "      <td>0</td>\n",
       "      <td>0</td>\n",
       "      <td>1</td>\n",
       "      <td>0</td>\n",
       "      <td>0</td>\n",
       "    </tr>\n",
       "    <tr>\n",
       "      <th>3622</th>\n",
       "      <td>50.0</td>\n",
       "      <td>0</td>\n",
       "      <td>0</td>\n",
       "      <td>0</td>\n",
       "      <td>112.44</td>\n",
       "      <td>31.5</td>\n",
       "      <td>0</td>\n",
       "      <td>1</td>\n",
       "      <td>0</td>\n",
       "      <td>0</td>\n",
       "      <td>...</td>\n",
       "      <td>0</td>\n",
       "      <td>1</td>\n",
       "      <td>0</td>\n",
       "      <td>0</td>\n",
       "      <td>0</td>\n",
       "      <td>1</td>\n",
       "      <td>1</td>\n",
       "      <td>0</td>\n",
       "      <td>0</td>\n",
       "      <td>0</td>\n",
       "    </tr>\n",
       "    <tr>\n",
       "      <th>603</th>\n",
       "      <td>23.0</td>\n",
       "      <td>0</td>\n",
       "      <td>0</td>\n",
       "      <td>0</td>\n",
       "      <td>125.26</td>\n",
       "      <td>18.7</td>\n",
       "      <td>0</td>\n",
       "      <td>0</td>\n",
       "      <td>1</td>\n",
       "      <td>0</td>\n",
       "      <td>...</td>\n",
       "      <td>1</td>\n",
       "      <td>0</td>\n",
       "      <td>0</td>\n",
       "      <td>0</td>\n",
       "      <td>0</td>\n",
       "      <td>1</td>\n",
       "      <td>0</td>\n",
       "      <td>0</td>\n",
       "      <td>1</td>\n",
       "      <td>0</td>\n",
       "    </tr>\n",
       "  </tbody>\n",
       "</table>\n",
       "<p>5 rows × 21 columns</p>\n",
       "</div>"
      ],
      "text/plain": [
       "       age  hypertension  heart_disease  ever_married  avg_glucose_level  \\\n",
       "882   74.0             1              0             1              57.51   \n",
       "4237  63.0             0              0             1              69.46   \n",
       "1695  57.0             0              0             1              70.16   \n",
       "3622  50.0             0              0             0             112.44   \n",
       "603   23.0             0              0             0             125.26   \n",
       "\n",
       "       bmi  stroke  gender_Female  gender_Male  gender_Other  ...  \\\n",
       "882   31.7       0              0            1             0  ...   \n",
       "4237  26.6       0              1            0             0  ...   \n",
       "1695  25.8       0              0            1             0  ...   \n",
       "3622  31.5       0              1            0             0  ...   \n",
       "603   18.7       0              0            1             0  ...   \n",
       "\n",
       "      work_type_Never_worked  work_type_Private  work_type_Self-employed  \\\n",
       "882                        0                  1                        0   \n",
       "4237                       0                  0                        1   \n",
       "1695                       0                  1                        0   \n",
       "3622                       0                  1                        0   \n",
       "603                        1                  0                        0   \n",
       "\n",
       "      work_type_children  Residence_type_Rural  Residence_type_Urban  \\\n",
       "882                    0                     1                     0   \n",
       "4237                   0                     0                     1   \n",
       "1695                   0                     1                     0   \n",
       "3622                   0                     0                     1   \n",
       "603                    0                     0                     1   \n",
       "\n",
       "      smoking_status_Unknown  smoking_status_formerly smoked  \\\n",
       "882                        0                               0   \n",
       "4237                       0                               0   \n",
       "1695                       0                               1   \n",
       "3622                       1                               0   \n",
       "603                        0                               0   \n",
       "\n",
       "      smoking_status_never smoked  smoking_status_smokes  \n",
       "882                             0                      1  \n",
       "4237                            1                      0  \n",
       "1695                            0                      0  \n",
       "3622                            0                      0  \n",
       "603                             1                      0  \n",
       "\n",
       "[5 rows x 21 columns]"
      ]
     },
     "execution_count": 27,
     "metadata": {},
     "output_type": "execute_result"
    }
   ],
   "source": [
    "df2.sample(5)"
   ]
  },
  {
   "cell_type": "code",
   "execution_count": 28,
   "id": "cbb089fa",
   "metadata": {},
   "outputs": [
    {
     "data": {
      "text/plain": [
       "age                               float64\n",
       "hypertension                        int64\n",
       "heart_disease                       int64\n",
       "ever_married                        int64\n",
       "avg_glucose_level                 float64\n",
       "bmi                               float64\n",
       "stroke                              int64\n",
       "gender_Female                       uint8\n",
       "gender_Male                         uint8\n",
       "gender_Other                        uint8\n",
       "work_type_Govt_job                  uint8\n",
       "work_type_Never_worked              uint8\n",
       "work_type_Private                   uint8\n",
       "work_type_Self-employed             uint8\n",
       "work_type_children                  uint8\n",
       "Residence_type_Rural                uint8\n",
       "Residence_type_Urban                uint8\n",
       "smoking_status_Unknown              uint8\n",
       "smoking_status_formerly smoked      uint8\n",
       "smoking_status_never smoked         uint8\n",
       "smoking_status_smokes               uint8\n",
       "dtype: object"
      ]
     },
     "execution_count": 28,
     "metadata": {},
     "output_type": "execute_result"
    }
   ],
   "source": [
    "df2.dtypes"
   ]
  },
  {
   "cell_type": "markdown",
   "id": "17ef266e",
   "metadata": {},
   "source": [
    "## Feature Scaling:"
   ]
  },
  {
   "cell_type": "code",
   "execution_count": 29,
   "id": "7bbb30b7",
   "metadata": {},
   "outputs": [],
   "source": [
    "cols_to_scale = ['age','avg_glucose_level','bmi']\n",
    "\n",
    "from sklearn.preprocessing import MinMaxScaler\n",
    "scaler = MinMaxScaler()\n",
    "df2[cols_to_scale] = scaler.fit_transform(df2[cols_to_scale])"
   ]
  },
  {
   "cell_type": "code",
   "execution_count": 32,
   "id": "4053d7a8",
   "metadata": {},
   "outputs": [
    {
     "name": "stdout",
     "output_type": "stream",
     "text": [
      "age: [8.16894531e-01 7.43652344e-01 9.75585938e-01 5.97167969e-01\n",
      " 9.63378906e-01 9.87792969e-01 9.02343750e-01 8.41308594e-01\n",
      " 7.19238281e-01 9.51171875e-01 6.58203125e-01 6.09375000e-01\n",
      " 7.80273438e-01 9.14550781e-01 7.31445312e-01 6.94824219e-01\n",
      " 8.65722656e-01 6.33789062e-01 1.00000000e+00 7.92480469e-01\n",
      " 7.07031250e-01 5.11718750e-01 5.84960938e-01 8.77929688e-01\n",
      " 7.68066406e-01 9.26757812e-01 4.75097656e-01 9.38964844e-01\n",
      " 8.90136719e-01 6.82617188e-01 5.48339844e-01 8.53515625e-01\n",
      " 8.04687500e-01 6.21582031e-01 5.23925781e-01 8.29101562e-01\n",
      " 5.72753906e-01 6.45996094e-01 4.62890625e-01 6.70410156e-01\n",
      " 1.51367188e-02 5.60546875e-01 3.89648438e-01 1.69921875e-01\n",
      " 3.56445312e-02 9.66796875e-02 4.50683594e-01 4.87304688e-01\n",
      " 4.26269531e-01 2.43164062e-01 5.36132812e-01 3.04199219e-01\n",
      " 3.28613281e-01 2.79785156e-01 2.06542969e-01 1.57714844e-01\n",
      " 4.78515625e-02 1.94335938e-01 2.67578125e-01 3.65234375e-01\n",
      " 3.53027344e-01 1.33300781e-01 2.55371094e-01 2.18750000e-01\n",
      " 4.01855469e-01 2.91992188e-01 4.14062500e-01 4.38476562e-01\n",
      " 6.83593750e-03 4.99511719e-01 9.76562500e-03 6.00585938e-02\n",
      " 3.16406250e-01 3.77441406e-01 8.44726562e-02 1.45507812e-01\n",
      " 7.55859375e-01 2.34375000e-02 1.08886719e-01 1.82128906e-01\n",
      " 3.40820312e-01 1.21093750e-01 2.09960938e-02 2.92968750e-03\n",
      " 1.22070312e-02 2.30957031e-01 7.22656250e-02 1.31835937e-02\n",
      " 1.12304688e-02 1.61132812e-02 2.00195312e-02 1.95312500e-03\n",
      " 1.90429688e-02 1.80664062e-02 7.81250000e-03 2.19726562e-02\n",
      " 1.41601562e-02 8.78906250e-03 3.90625000e-03 0.00000000e+00\n",
      " 1.70898438e-02 5.85937500e-03 4.88281250e-03 9.76562500e-04]\n",
      "hypertension: [0 1]\n",
      "heart_disease: [1 0]\n",
      "ever_married: [1 0]\n",
      "avg_glucose_level: [0.80126489 0.67902317 0.23451205 ... 0.12865848 0.51320284 0.13922999]\n",
      "bmi: [0.30126002 0.21298095 0.25429553 0.27605956 0.15693013 0.21420389\n",
      " 0.19587629 0.14318442 0.15922108 0.22222222 0.30355097 0.19473081\n",
      " 0.20504009 0.23596793 0.3115693  0.17754868 0.31500573 0.13860252\n",
      " 0.44215349 0.18671249 0.19358534 0.15120275 0.20618557 0.38831615\n",
      " 0.17296678 0.13631157 0.23138603 0.18556701 0.26804124 0.14662085\n",
      " 0.24856816 0.22451317 0.15578465 0.20847652 0.18442153 0.11340206\n",
      " 0.26689576 0.32416953 0.33104238 0.19931271 0.2416953  0.30011455\n",
      " 0.26231386 0.25773196 0.34478809 0.17182131 0.2279496  0.42611684\n",
      " 0.11454754 0.22565865 0.21305842 0.20389462 0.23825888 0.13058419\n",
      " 0.19129439 0.1580756  0.40778923 0.38717068 0.1443299  0.21534937\n",
      " 0.25200458 0.35280641 0.17525773 0.2233677  0.18327606 0.18213058\n",
      " 0.2187858  0.16151203 0.20274914 0.21191294 0.27835052 0.10423826\n",
      " 0.22909507 0.35738832 0.14089347 0.5303551  0.19243986 0.24054983\n",
      " 0.2371134  0.24513173 0.29209622 0.20733104 0.11225659 0.18785796\n",
      " 0.32531501 0.28178694 0.16838488 0.15463918 0.13172967 0.19702176\n",
      " 0.16380298 0.25887743 0.18098511 0.24742268 0.27262314 0.30469645\n",
      " 0.30927835 0.40549828 0.27376861 0.15234822 0.13745704 0.3069874\n",
      " 0.39747995 0.17411226 0.23482245 0.31042383 0.27720504 0.20160367\n",
      " 0.21993127 0.40893471 0.36884307 0.28865979 0.19014891 0.40320733\n",
      " 0.24284078 0.26002291 0.15005727 0.23367698 0.11683849 0.12829324\n",
      " 0.34020619 0.20962199 0.36540664 0.22107675 0.28751432 0.07560137\n",
      " 0.18900344 0.33218786 0.25544101 0.2932417  0.12485682 0.36769759\n",
      " 0.34593356 0.3024055  0.21764032 0.10652921 0.0882016  0.0836197\n",
      " 0.10080183 0.4558992  0.08476518 0.50744559 0.28293242 0.13402062\n",
      " 0.33333333 0.10767468 0.139748   0.17067583 0.36082474 0.57961054\n",
      " 0.1534937  0.1626575  0.23940435 0.0652921  0.24398625 0.16953036\n",
      " 0.16609393 0.09163803 0.11111111 0.10538373 0.29438717 0.28636884\n",
      " 0.34135166 0.37571592 0.12714777 0.27491409 0.19816724 0.07101947\n",
      " 0.16036655 0.17640321 0.13287514 0.32187858 0.17869416 0.50859107\n",
      " 0.09507446 0.1672394  0.43413517 0.11912944 0.33447881 0.1489118\n",
      " 0.62428408 0.28407789 0.3814433  0.12256586 0.42382589 0.07216495\n",
      " 0.12943872 0.05956472 0.28980527 0.07331042 0.36197022 0.069874\n",
      " 0.07789233 0.21649485 0.3161512  0.39289805 0.33562428 0.34364261\n",
      " 0.35853379 0.32875143 0.14776632 0.09851088 0.29553265 0.2978236\n",
      " 0.41466208 0.0744559  0.41580756 0.28522337 0.12142039 0.04009164\n",
      " 0.24627721 0.05727377 0.31958763 0.3997709  0.07674685 0.45246277\n",
      " 0.20045819 0.57159221 0.14547537 0.13516609 0.17983963 0.38946163\n",
      " 0.46620848 0.33676976 0.27949599 0.12600229 0.35395189 0.28064147\n",
      " 0.10194731 0.29095074 0.34936999 0.16494845 0.09965636 0.25315006\n",
      " 0.27147766 0.21076747 0.24971363 0.47193585 0.11569301 0.2325315\n",
      " 0.70561283 0.10309278 0.35051546 0.0790378  0.06643757 0.06758305\n",
      " 0.34707904 0.09278351 0.12371134 0.36655212 0.25085911 0.45704467\n",
      " 0.08247423 0.09621993 0.36426117 0.42955326 0.12027491 0.22680412\n",
      " 0.08018328 0.29896907 0.01947308 0.29667812 0.52004582 0.04696449\n",
      " 0.37457045 0.35967927 0.26918671 0.38487973 0.14203895 0.54066438\n",
      " 0.30584192 0.32302405 0.06872852 0.3860252  0.25658648 0.50286369\n",
      " 0.34249714 0.26345934 0.08132875 0.35509737 0.48109966 0.04925544\n",
      " 0.08591065 0.41008018 0.26116838 0.08934708 0.38373425 0.45819015\n",
      " 0.32760596 0.38258877 0.33906071 0.06414662 0.10882016 0.02290951\n",
      " 0.77548683 0.3207331  0.35166094 0.36998855 0.37915235 0.05498282\n",
      " 0.11798396 0.26575029 0.3768614  0.23024055 0.31729668 0.26460481\n",
      " 0.39633448 0.39404353 0.31271478 0.33791523 0.49369989 0.51431844\n",
      " 0.36311569 0.30813288 0.3722795  0.09736541 0.37342497 0.04581901\n",
      " 0.31386025 0.43642612 0.46162658 0.41122566 0.44902635 0.37800687\n",
      " 0.27033219 0.09392898 0.39175258 0.40206186 0.51202749 0.50973654\n",
      " 0.10996564 0.08705613 0.06071019 0.48682703 0.05612829 0.64719359\n",
      " 0.51317297 0.09049255 0.43757159 0.52233677 0.53837342 0.\n",
      " 0.04352806 0.06185567 0.52348225 0.395189   0.03550974 0.47537228\n",
      " 0.31844215 0.54295533 0.3906071  0.32646048 0.4467354  0.32989691\n",
      " 0.50057274 0.52462772 1.         0.49942726 0.03894616 0.0137457\n",
      " 0.35624284 0.04467354 0.44788087 0.05841924 0.39862543 0.44558992\n",
      " 0.43986254 0.49828179 0.37113402 0.44100802 0.48568156 0.49484536\n",
      " 0.4604811  0.06300115 0.40091638 0.05154639 0.47651775 0.60710195\n",
      " 0.34822451 0.58304696 0.43184422 0.41809851 0.43528064 0.54753723\n",
      " 0.45933562 0.01145475 0.02863688 0.03665521 0.04810997 0.05383734\n",
      " 0.56586483 0.42497136 0.48339061 0.03321879 0.48797251 0.58762887\n",
      " 0.45360825 0.50400916 0.43069874 0.03092784 0.04123711 0.465063\n",
      " 0.53722795 0.61970218 0.93585338 0.46391753 0.54524628 0.40664376\n",
      " 0.42726231 0.04238259 0.41351661 0.41924399 0.42153494 0.03436426\n",
      " 0.43298969 0.4742268  0.41237113 0.50171821 0.05269187]\n",
      "stroke: [1 0]\n",
      "gender_Female: [0 1]\n",
      "gender_Male: [1 0]\n",
      "gender_Other: [0 1]\n",
      "work_type_Govt_job: [0 1]\n",
      "work_type_Never_worked: [0 1]\n",
      "work_type_Private: [1 0]\n",
      "work_type_Self-employed: [0 1]\n",
      "work_type_children: [0 1]\n",
      "Residence_type_Rural: [0 1]\n",
      "Residence_type_Urban: [1 0]\n",
      "smoking_status_Unknown: [0 1]\n",
      "smoking_status_formerly smoked: [1 0]\n",
      "smoking_status_never smoked: [0 1]\n",
      "smoking_status_smokes: [0 1]\n"
     ]
    }
   ],
   "source": [
    "for col in df2:\n",
    "    print(f'{col}: {df2[col].unique()}')"
   ]
  },
  {
   "cell_type": "code",
   "execution_count": 115,
   "id": "5acfdd75",
   "metadata": {},
   "outputs": [],
   "source": [
    "X = df2.drop(columns=['stroke'])  # Replace 'target_label' with the actual name of your target column\n",
    "y = df2['stroke']"
   ]
  },
  {
   "cell_type": "code",
   "execution_count": 116,
   "id": "b40c446d",
   "metadata": {},
   "outputs": [],
   "source": [
    "#Train-Test Split\n",
    "X_train, X_test, y_train, y_test = train_test_split(X, y, test_size=0.2, random_state=42)\n"
   ]
  },
  {
   "cell_type": "markdown",
   "id": "7b9b8161",
   "metadata": {},
   "source": [
    "## Model Architecture"
   ]
  },
  {
   "cell_type": "code",
   "execution_count": 117,
   "id": "c5c50f76",
   "metadata": {},
   "outputs": [],
   "source": [
    "model = Sequential()\n",
    "model.add(LSTM(units=64, input_shape=(X_train.shape[1], 1)))\n",
    "model.add(Dense(units=1, activation='sigmoid'))\n"
   ]
  },
  {
   "cell_type": "markdown",
   "id": "a3ad8e1e",
   "metadata": {},
   "source": [
    "## Compiling the Model "
   ]
  },
  {
   "cell_type": "code",
   "execution_count": 118,
   "id": "8c01d7f8",
   "metadata": {},
   "outputs": [],
   "source": [
    "model.compile(optimizer='adam', loss='binary_crossentropy', metrics=['accuracy'])"
   ]
  },
  {
   "cell_type": "markdown",
   "id": "95798354",
   "metadata": {},
   "source": [
    "## Training the Model"
   ]
  },
  {
   "cell_type": "code",
   "execution_count": 125,
   "id": "e5cab6e9",
   "metadata": {},
   "outputs": [
    {
     "name": "stdout",
     "output_type": "stream",
     "text": [
      "Epoch 1/20\n",
      "128/128 [==============================] - 2s 17ms/step - loss: 0.1595 - accuracy: 0.9543\n",
      "Epoch 2/20\n",
      "128/128 [==============================] - 2s 16ms/step - loss: 0.1588 - accuracy: 0.9543\n",
      "Epoch 3/20\n",
      "128/128 [==============================] - 2s 15ms/step - loss: 0.1593 - accuracy: 0.9543\n",
      "Epoch 4/20\n",
      "128/128 [==============================] - 2s 17ms/step - loss: 0.1566 - accuracy: 0.9543\n",
      "Epoch 5/20\n",
      "128/128 [==============================] - 2s 16ms/step - loss: 0.1574 - accuracy: 0.9543\n",
      "Epoch 6/20\n",
      "128/128 [==============================] - 2s 16ms/step - loss: 0.1559 - accuracy: 0.9543\n",
      "Epoch 7/20\n",
      "128/128 [==============================] - 2s 16ms/step - loss: 0.1559 - accuracy: 0.9543\n",
      "Epoch 8/20\n",
      "128/128 [==============================] - 2s 16ms/step - loss: 0.1568 - accuracy: 0.9543\n",
      "Epoch 9/20\n",
      "128/128 [==============================] - 2s 17ms/step - loss: 0.1570 - accuracy: 0.9543\n",
      "Epoch 10/20\n",
      "128/128 [==============================] - 2s 16ms/step - loss: 0.1565 - accuracy: 0.9543\n",
      "Epoch 11/20\n",
      "128/128 [==============================] - 2s 15ms/step - loss: 0.1558 - accuracy: 0.9543\n",
      "Epoch 12/20\n",
      "128/128 [==============================] - 2s 15ms/step - loss: 0.1552 - accuracy: 0.9543\n",
      "Epoch 13/20\n",
      "128/128 [==============================] - 2s 15ms/step - loss: 0.1552 - accuracy: 0.9543\n",
      "Epoch 14/20\n",
      "128/128 [==============================] - 2s 17ms/step - loss: 0.1541 - accuracy: 0.9543\n",
      "Epoch 15/20\n",
      "128/128 [==============================] - 2s 17ms/step - loss: 0.1558 - accuracy: 0.9543\n",
      "Epoch 16/20\n",
      "128/128 [==============================] - 2s 18ms/step - loss: 0.1545 - accuracy: 0.9543\n",
      "Epoch 17/20\n",
      "128/128 [==============================] - 2s 16ms/step - loss: 0.1564 - accuracy: 0.9543\n",
      "Epoch 18/20\n",
      "128/128 [==============================] - 2s 15ms/step - loss: 0.1548 - accuracy: 0.9543\n",
      "Epoch 19/20\n",
      "128/128 [==============================] - 2s 15ms/step - loss: 0.1547 - accuracy: 0.9543\n",
      "Epoch 20/20\n",
      "128/128 [==============================] - 2s 16ms/step - loss: 0.1551 - accuracy: 0.9543\n"
     ]
    },
    {
     "data": {
      "text/plain": [
       "<keras.callbacks.History at 0x154b9adead0>"
      ]
     },
     "execution_count": 125,
     "metadata": {},
     "output_type": "execute_result"
    }
   ],
   "source": [
    "model.fit(X_train, y_train, epochs=20, batch_size=32)"
   ]
  },
  {
   "cell_type": "markdown",
   "id": "53b9b802",
   "metadata": {},
   "source": [
    "## Model Evaluation "
   ]
  },
  {
   "cell_type": "code",
   "execution_count": 129,
   "id": "d64be2c1",
   "metadata": {},
   "outputs": [
    {
     "name": "stdout",
     "output_type": "stream",
     "text": [
      "32/32 [==============================] - 0s 7ms/step\n"
     ]
    }
   ],
   "source": [
    "y_pred_prob = model.predict(X_test)\n",
    "y_pred = (y_pred_prob > 0.5).astype(int)"
   ]
  },
  {
   "cell_type": "code",
   "execution_count": 136,
   "id": "3d8a0f40",
   "metadata": {},
   "outputs": [
    {
     "name": "stdout",
     "output_type": "stream",
     "text": [
      "Accuracy: 0.9393346379647749\n"
     ]
    }
   ],
   "source": [
    "from sklearn.metrics import accuracy_score\n",
    "accuracy = accuracy_score(y_test, y_pred)\n",
    "print(\"Accuracy:\", accuracy)"
   ]
  },
  {
   "cell_type": "code",
   "execution_count": 137,
   "id": "c46b4e88",
   "metadata": {},
   "outputs": [
    {
     "name": "stdout",
     "output_type": "stream",
     "text": [
      "              precision    recall  f1-score   support\n",
      "\n",
      "           0       0.94      1.00      0.97       960\n",
      "           1       0.00      0.00      0.00        62\n",
      "\n",
      "    accuracy                           0.94      1022\n",
      "   macro avg       0.47      0.50      0.48      1022\n",
      "weighted avg       0.88      0.94      0.91      1022\n",
      "\n"
     ]
    },
    {
     "name": "stderr",
     "output_type": "stream",
     "text": [
      "C:\\ProgramData\\anaconda3\\lib\\site-packages\\sklearn\\metrics\\_classification.py:1344: UndefinedMetricWarning: Precision and F-score are ill-defined and being set to 0.0 in labels with no predicted samples. Use `zero_division` parameter to control this behavior.\n",
      "  _warn_prf(average, modifier, msg_start, len(result))\n",
      "C:\\ProgramData\\anaconda3\\lib\\site-packages\\sklearn\\metrics\\_classification.py:1344: UndefinedMetricWarning: Precision and F-score are ill-defined and being set to 0.0 in labels with no predicted samples. Use `zero_division` parameter to control this behavior.\n",
      "  _warn_prf(average, modifier, msg_start, len(result))\n",
      "C:\\ProgramData\\anaconda3\\lib\\site-packages\\sklearn\\metrics\\_classification.py:1344: UndefinedMetricWarning: Precision and F-score are ill-defined and being set to 0.0 in labels with no predicted samples. Use `zero_division` parameter to control this behavior.\n",
      "  _warn_prf(average, modifier, msg_start, len(result))\n"
     ]
    }
   ],
   "source": [
    "from sklearn.metrics import confusion_matrix , classification_report\n",
    "\n",
    "print(classification_report(y_test,y_pred))"
   ]
  },
  {
   "cell_type": "code",
   "execution_count": null,
   "id": "7e1a922a",
   "metadata": {},
   "outputs": [],
   "source": []
  }
 ],
 "metadata": {
  "kernelspec": {
   "display_name": "Python 3 (ipykernel)",
   "language": "python",
   "name": "python3"
  },
  "language_info": {
   "codemirror_mode": {
    "name": "ipython",
    "version": 3
   },
   "file_extension": ".py",
   "mimetype": "text/x-python",
   "name": "python",
   "nbconvert_exporter": "python",
   "pygments_lexer": "ipython3",
   "version": "3.10.9"
  }
 },
 "nbformat": 4,
 "nbformat_minor": 5
}
